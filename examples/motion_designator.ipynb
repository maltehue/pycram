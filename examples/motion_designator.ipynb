{
 "cells": [
  {
   "cell_type": "markdown",
   "id": "ef05df65",
   "metadata": {},
   "source": [
    "# Motion Designator\n",
    "Motion designators are similar to action designators, but unlike action designators, motion designators represent atomic low-level motions. Motion designators only take the parameter that they should execute and not a list of possible parameters, like the other designators. Like action designators, motion designators can be performed, performing motion designator verifies the parameter and passes the designator to the respective process module. \n",
    "\n",
    "Since motion designators perform a motion on the robot, we need a robot which we can use. Therefore, we will create a BulletWorld as well as a PR2 robot."
   ]
  },
  {
   "cell_type": "code",
   "execution_count": 1,
   "id": "7f7c74ae",
   "metadata": {
    "ExecuteTime": {
     "end_time": "2024-01-29T16:47:00.051126267Z",
     "start_time": "2024-01-29T16:46:56.312023994Z"
    }
   },
   "source": [
    "from pycram.bullet_world import BulletWorld, Object\n",
    "from pycram.enums import ObjectType\n",
    "\n",
    "world = BulletWorld()\n",
    "pr2 = Object(\"pr2\", ObjectType.ROBOT, \"pr2.urdf\")"
   ],
   "outputs": []
  },
  {
   "cell_type": "markdown",
   "id": "0e6f3f2f",
   "metadata": {},
   "source": [
    "The following cell can be used after testing the examples, to close the BulletWorld."
   ]
  },
  {
   "cell_type": "code",
   "execution_count": 2,
   "id": "cc2e1bcd",
   "metadata": {
    "ExecuteTime": {
     "end_time": "2024-01-29T16:47:00.051774984Z",
     "start_time": "2024-01-29T16:47:00.048239557Z"
    }
   },
   "source": [
    "world.exit()"
   ],
   "outputs": []
  },
  {
   "cell_type": "markdown",
   "id": "cfab381f",
   "metadata": {},
   "source": [
    "## Move\n",
    "Move is used to let the robot drive to the given target pose. Motion designator are used in the same way as the other designator, first create a description then resolve it to the actual designator and lastly, perform the resolved designator. "
   ]
  },
  {
   "cell_type": "code",
   "execution_count": 3,
   "id": "ad9c75e3",
   "metadata": {
    "ExecuteTime": {
     "end_time": "2024-01-29T16:47:00.576314628Z",
     "start_time": "2024-01-29T16:47:00.051456576Z"
    }
   },
   "source": [
    "from pycram.pose import Pose\n",
    "from pycram.designators.motion_designator import MoveMotion\n",
    "from pycram.process_module import simulated_robot\n",
    "\n",
    "with simulated_robot:\n",
    "    motion_description = MoveMotion(target=Pose([1, 0, 0], [0, 0, 0, 1]))\n",
    "    \n",
    "    motion_description.perform()"
   ],
   "outputs": []
  },
  {
   "cell_type": "code",
   "execution_count": 4,
   "id": "ac9f7766",
   "metadata": {
    "ExecuteTime": {
     "end_time": "2024-01-29T16:47:00.594527954Z",
     "start_time": "2024-01-29T16:47:00.591545638Z"
    }
   },
   "source": [
    "world.reset_bullet_world()"
   ],
   "outputs": []
  },
  {
   "cell_type": "markdown",
   "id": "855f2847",
   "metadata": {},
   "source": [
    "## MoveTCP\n",
    "MoveTCP is used to move the tool center point (TCP) of the given arm to the target position specified by the parameter. Like any designator we start by creating a description and then resolving and performing it."
   ]
  },
  {
   "cell_type": "code",
   "execution_count": 5,
   "id": "52aa961d",
   "metadata": {
    "ExecuteTime": {
     "end_time": "2024-01-29T16:47:01.122650746Z",
     "start_time": "2024-01-29T16:47:00.593841452Z"
    }
   },
   "source": [
    "from pycram.designators.motion_designator import MoveTCPMotion\n",
    "from pycram.process_module import simulated_robot\n",
    "\n",
    "with simulated_robot:\n",
    "    motion_description = MoveTCPMotion(target=Pose([0.5, 0.6, 0.6], [0, 0, 0, 1]), arm=\"left\")\n",
    "    \n",
    "    motion_description.perform()"
   ],
   "outputs": []
  },
  {
   "cell_type": "markdown",
   "id": "95a90490",
   "metadata": {},
   "source": [
    "## Looking\n",
    "Looking motion designator adjusts the robot state such that the cameras point towards the target pose. Although this motion designator takes the target as position and orientation, in reality only the position is used. "
   ]
  },
  {
   "cell_type": "code",
   "execution_count": 6,
   "id": "84ffcf03",
   "metadata": {
    "ExecuteTime": {
     "end_time": "2024-01-29T16:47:01.633288773Z",
     "start_time": "2024-01-29T16:47:01.135133088Z"
    }
   },
   "source": [
    "from pycram.designators.motion_designator import LookingMotion\n",
    "from pycram.process_module import simulated_robot\n",
    "\n",
    "with simulated_robot:\n",
    "    motion_description = LookingMotion(target=Pose([1, 1, 1], [0, 0, 0, 1]))\n",
    "    \n",
    "    motion_description.perform()"
   ],
   "outputs": []
  },
  {
   "cell_type": "markdown",
   "id": "1b8d67e9",
   "metadata": {},
   "source": [
    "## Move Gripper\n",
    "Move gripper moves the gripper of an arm to one of two states. The states can be ```open``` and ```close```, which open and close the gripper respectively."
   ]
  },
  {
   "cell_type": "code",
   "execution_count": 7,
   "id": "f90adb34",
   "metadata": {
    "ExecuteTime": {
     "end_time": "2024-01-29T16:47:02.149528442Z",
     "start_time": "2024-01-29T16:47:01.647168572Z"
    }
   },
   "source": [
    "from pycram.designators.motion_designator import MoveGripperMotion\n",
    "from pycram.process_module import simulated_robot\n",
    "\n",
    "with simulated_robot:\n",
    "    motion_description = MoveGripperMotion(motion=\"open\", gripper=\"left\")\n",
    "    \n",
    "    motion_description.perform()"
   ],
   "outputs": []
  },
  {
   "cell_type": "markdown",
   "id": "85883ad4",
   "metadata": {},
   "source": [
    "## Detecting \n",
    "This is the motion designator implementation of detecting, if an object with the given object type is in the field of view (FOV) this motion designator will return an object designator describing the object.\n",
    "\n",
    "Since we need an object that we can detect, we will spawn a milk for this."
   ]
  },
  {
   "cell_type": "code",
   "execution_count": 8,
   "id": "4c9f3e27",
   "metadata": {
    "ExecuteTime": {
     "end_time": "2024-01-29T16:47:02.199992775Z",
     "start_time": "2024-01-29T16:47:02.150827945Z"
    }
   },
   "source": [
    "milk = Object(\"milk\", ObjectType.MILK, \"milk.stl\", pose=Pose([1.5, 0, 1]))"
   ],
   "outputs": []
  },
  {
   "cell_type": "code",
   "execution_count": 9,
   "id": "27eae08a",
   "metadata": {
    "ExecuteTime": {
     "end_time": "2024-01-29T16:47:03.473751479Z",
     "start_time": "2024-01-29T16:47:02.201339779Z"
    }
   },
   "source": [
    "from pycram.designators.motion_designator import DetectingMotion, LookingMotion\n",
    "from pycram.process_module import simulated_robot\n",
    "\n",
    "with simulated_robot:\n",
    "    LookingMotion(target=Pose([1.5, 0, 1], [0, 0, 0, 1])).perform()\n",
    "    \n",
    "    motion_description = DetectingMotion(object_type=ObjectType.MILK)\n",
    "    \n",
    "    obj = motion_description.perform()\n",
    "    \n",
    "    print(obj)"
   ],
   "outputs": []
  },
  {
   "cell_type": "markdown",
   "id": "45255adf",
   "metadata": {},
   "source": [
    "## Move Arm Joints\n",
    "This motion designator moves one or both arms. Movement targets are a dictionary with joint name as key and target pose as value. "
   ]
  },
  {
   "cell_type": "code",
   "execution_count": 10,
   "id": "ce7655c1",
   "metadata": {
    "ExecuteTime": {
     "end_time": "2024-01-29T16:47:03.979196754Z",
     "start_time": "2024-01-29T16:47:03.482859314Z"
    }
   },
   "source": [
    "from pycram.designators.motion_designator import MoveArmJointsMotion\n",
    "from pycram.process_module import simulated_robot\n",
    "\n",
    "with simulated_robot:\n",
    "    motion_description = MoveArmJointsMotion(right_arm_poses={\"r_shoulder_pan_joint\": -0.7})\n",
    "    \n",
    "    motion_description.perform()"
   ],
   "outputs": []
  },
  {
   "cell_type": "markdown",
   "id": "ad11039f",
   "metadata": {},
   "source": [
    "## World State Detecting\n",
    "World state detecting is also used to detect objects, however, the object is not required to be in the FOV of the robot. As long as the object is somewhere in the belief state (BulletWorld) a resolved object designator will be returned.\n",
    "\n",
    "Sine we want to detect something we will spawn an object that we can detect. If you already spawned the milk from the previous example, you can skip this step."
   ]
  },
  {
   "cell_type": "code",
   "execution_count": 11,
   "id": "0f9f0ca8",
   "metadata": {
    "ExecuteTime": {
     "end_time": "2024-01-29T16:47:04.035948673Z",
     "start_time": "2024-01-29T16:47:03.980202995Z"
    }
   },
   "source": [
    "milk = Object(\"milk\", ObjectType.MILK, \"milk.stl\", pose=Pose([-1, 0, 1]))"
   ],
   "outputs": []
  },
  {
   "cell_type": "code",
   "execution_count": 12,
   "id": "4382bfa3",
   "metadata": {
    "ExecuteTime": {
     "end_time": "2024-01-29T16:47:04.540918323Z",
     "start_time": "2024-01-29T16:47:04.035986657Z"
    }
   },
   "source": [
    "from pycram.designators.motion_designator import WorldStateDetectingMotion\n",
    "from pycram.process_module import simulated_robot\n",
    "\n",
    "with simulated_robot:\n",
    "    motion_description = WorldStateDetectingMotion(object_type=ObjectType.MILK)\n",
    "    \n",
    "    obj = motion_description.perform()\n",
    "    \n",
    "    print(obj)"
   ],
   "outputs": []
  },
  {
   "cell_type": "markdown",
   "id": "db240f2c",
   "metadata": {},
   "source": [
    "## Move Joints\n",
    "Move joints can move any number of joints of the robot, the designator takes two lists as parameter. The first list are the names of all joints that should be moved and the second list are the positions to which the joints should be moved."
   ]
  },
  {
   "cell_type": "code",
   "execution_count": 13,
   "id": "1e0191c8",
   "metadata": {
    "ExecuteTime": {
     "end_time": "2024-01-29T16:47:05.046180891Z",
     "start_time": "2024-01-29T16:47:04.548113629Z"
    }
   },
   "source": [
    "from pycram.designators.motion_designator import MoveJointsMotion\n",
    "from pycram.process_module import simulated_robot\n",
    "\n",
    "with simulated_robot:\n",
    "    motion_description = MoveJointsMotion(names=[\"torso_lift_joint\", \"r_shoulder_pan_joint\"], positions=[0.2, -1.2])\n",
    "    \n",
    "    motion_description.perform()"
   ],
   "outputs": []
  }
 ],
 "metadata": {
  "kernelspec": {
   "display_name": "Python 3",
   "language": "python",
   "name": "python3"
  },
  "language_info": {
   "codemirror_mode": {
    "name": "ipython",
    "version": 3
   },
   "file_extension": ".py",
   "mimetype": "text/x-python",
   "name": "python",
   "nbconvert_exporter": "python",
   "pygments_lexer": "ipython3",
   "version": "3.8.10"
  }
 },
 "nbformat": 4,
 "nbformat_minor": 5
}
