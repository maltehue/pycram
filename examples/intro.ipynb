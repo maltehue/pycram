{
 "cells": [
  {
   "cell_type": "markdown",
   "metadata": {},
   "source": [
    "# PyCRAM Presentation"
   ]
  },
  {
   "cell_type": "code",
   "execution_count": 1,
   "metadata": {
    "ExecuteTime": {
     "end_time": "2024-01-29T16:14:50.953932170Z",
     "start_time": "2024-01-29T16:14:50.284068023Z"
    }
   },
   "source": [
    "import pycram"
   ],
   "outputs": []
  },
  {
   "cell_type": "markdown",
   "metadata": {},
   "source": [
    "# Bullet World\n",
    "\n",
    "The BulletWorld is the internal simulation of PyCRAM. You can simulate different actions and reason about the outcome of different actions. \n",
    "\n",
    "It is possible to spawn objects and robots into the BulletWorld, these objects can come from URDF, OBJ or STL files. \n",
    "\n",
    "A BulletWorld can be created by simply creating an object of the BulletWorld class. "
   ]
  },
  {
   "cell_type": "code",
   "execution_count": 2,
   "metadata": {
    "ExecuteTime": {
     "end_time": "2024-01-29T16:14:51.215354072Z",
     "start_time": "2024-01-29T16:14:50.980844838Z"
    }
   },
   "source": [
    "from pycram.bullet_world import BulletWorld, Object\n",
    "from pycram.enums import ObjectType\n",
    "from pycram.pose import Pose\n",
    "\n",
    "world = BulletWorld()"
   ],
   "outputs": []
  },
  {
   "cell_type": "markdown",
   "metadata": {},
   "source": [
    "The BulletWorld allows to render images from arbitrary positions. In the following example we render images with the camera at the position [0.3, 0, 1] and pointing towards [1, 0, 1], so we are looking upwards along the x-axis. \n",
    "\n",
    "The renderer returns 3 different kinds of images which are also shown on the left side of the BulletWorld window. (If these winodws are missing, click the BulletWorld window to focus it, and press \"g\") These images are:\n",
    "* An RGB image which shows everything like it is rendered in the BulletWorld window, just from another perspective. \n",
    "* A depth image which consists of distance values from the camera towards the objects in the field of view. \n",
    "* A segmentation mask image which segments the image into the different objects displayed. The segmentation is done by assigning every pixel the unique id of the object that is displayed there. "
   ]
  },
  {
   "cell_type": "code",
   "execution_count": 3,
   "metadata": {
    "ExecuteTime": {
     "end_time": "2024-01-29T16:14:51.251936758Z",
     "start_time": "2024-01-29T16:14:51.234948638Z"
    }
   },
   "source": [
    "from pycram.bullet_world_reasoning import _get_images_for_target\n",
    "\n",
    "_get_images_for_target(Pose([1, 0, 1], [0, 0, 0, 1]), Pose([0.3, 0, 1], [0, 0, 0, 1]))"
   ],
   "outputs": []
  },
  {
   "cell_type": "markdown",
   "metadata": {},
   "source": [
    "## Objects\n",
    "Everything that is located inside the BulletWorld is an Object. \n",
    "Objects can be created from URDF, OBJ or STL files. Since everything is of type Object a robot might share the same methods as a milk (with some limitations).\n",
    "\n",
    "Signature:\n",
    "Object:\n",
    "* Name \n",
    "* Type\n",
    "* Filename or Filepath\n",
    "\n",
    " Optional:\n",
    " * Position\n",
    " * Orientation\n",
    " * World \n",
    " * Color \n",
    " * Ignore Cached Files\n",
    "\n",
    "If there is only a filename and no path, PyCRAM will check in the resource directory if there is a matching file. \n"
   ]
  },
  {
   "cell_type": "code",
   "execution_count": 4,
   "metadata": {
    "ExecuteTime": {
     "end_time": "2024-01-29T16:14:51.319150211Z",
     "start_time": "2024-01-29T16:14:51.238519616Z"
    }
   },
   "source": [
    "milk = Object(\"Milk\", ObjectType.MILK, \"milk.stl\")"
   ],
   "outputs": []
  },
  {
   "cell_type": "markdown",
   "metadata": {},
   "source": [
    "Objects provide methods to change the position and rotation, change the color, attach other objects, set the state of joints if the objects has any or get the position and orientation of a link. \n",
    "\n",
    "These methods are the same for every Object, however since some Objects may not have joints or more than one link methods related to these will not work. "
   ]
  },
  {
   "cell_type": "code",
   "execution_count": 5,
   "metadata": {
    "ExecuteTime": {
     "end_time": "2024-01-29T16:14:51.361155485Z",
     "start_time": "2024-01-29T16:14:51.360054431Z"
    }
   },
   "source": [
    "milk.set_position(Pose([1, 0, 0]))"
   ],
   "outputs": []
  },
  {
   "cell_type": "markdown",
   "metadata": {},
   "source": [
    "To remove an Object from the BulletWorld just call the 'remove' method on the Object."
   ]
  },
  {
   "cell_type": "code",
   "execution_count": 6,
   "metadata": {
    "ExecuteTime": {
     "end_time": "2024-01-29T16:14:51.404210573Z",
     "start_time": "2024-01-29T16:14:51.360232825Z"
    }
   },
   "source": [
    "milk.remove()"
   ],
   "outputs": []
  },
  {
   "cell_type": "markdown",
   "metadata": {},
   "source": [
    "Since everything inside the BulletWorld is an Object, even a complex environment Object like the kitchen can be spawned in the same way as the milk."
   ]
  },
  {
   "cell_type": "code",
   "execution_count": 7,
   "metadata": {
    "ExecuteTime": {
     "end_time": "2024-01-29T16:14:54.380977290Z",
     "start_time": "2024-01-29T16:14:51.404113811Z"
    }
   },
   "source": [
    "kitchen = Object(\"kitchen\", ObjectType.ENVIRONMENT, \"kitchen.urdf\")"
   ],
   "outputs": []
  },
  {
   "cell_type": "markdown",
   "metadata": {},
   "source": [
    "## Costmaps\n",
    "\n",
    "Costmaps are a way to get positions with respect to certain criterias. \n",
    "The currently available costmaps are:\n",
    "* Occupancy Costmap\n",
    "* Visibility Costmap\n",
    "* Semantic Costmap \n",
    "* Gaussian Costmap\n",
    "\n",
    "It is also possible to merge multiple costmaps to combine different criteria."
   ]
  },
  {
   "cell_type": "markdown",
   "metadata": {},
   "source": [
    "### Visibility Costmaps\n",
    "Visibility costmaps determine every position, around a target position, from which the target is visible. Visibility Costmaps are able to work with cameras that are movable in height for example, if the robot has a movable torso. "
   ]
  },
  {
   "cell_type": "code",
   "execution_count": 8,
   "metadata": {
    "ExecuteTime": {
     "end_time": "2024-01-29T16:14:54.951307507Z",
     "start_time": "2024-01-29T16:14:54.380864026Z"
    }
   },
   "source": [
    "import pycram.costmaps as cm\n",
    "v = cm.VisibilityCostmap(1.27, 1.60, size=300, resolution=0.02, origin=Pose([0, 0, 0.1], [0, 0, 0, 1]))"
   ],
   "outputs": []
  },
  {
   "cell_type": "code",
   "execution_count": 9,
   "metadata": {
    "ExecuteTime": {
     "end_time": "2024-01-29T16:15:01.756580723Z",
     "start_time": "2024-01-29T16:14:54.961615686Z"
    }
   },
   "source": [
    "v.visualize()"
   ],
   "outputs": []
  },
  {
   "cell_type": "code",
   "execution_count": 10,
   "metadata": {
    "ExecuteTime": {
     "end_time": "2024-01-29T16:15:05.092885577Z",
     "start_time": "2024-01-29T16:15:05.091325419Z"
    }
   },
   "source": [
    "v.close_visualization()"
   ],
   "outputs": []
  },
  {
   "cell_type": "markdown",
   "metadata": {},
   "source": [
    "### Occupancy Costmap\n",
    "Is valid for every position where the robot can be placed without colliding with an object."
   ]
  },
  {
   "cell_type": "code",
   "execution_count": 11,
   "metadata": {
    "ExecuteTime": {
     "end_time": "2024-01-29T16:15:05.847569295Z",
     "start_time": "2024-01-29T16:15:05.093669437Z"
    }
   },
   "source": [
    "o = cm.OccupancyCostmap(0.2, from_ros=False, size=300, resolution=0.02, origin=Pose([0, 0, 0.1], [0, 0, 0, 1]))"
   ],
   "outputs": []
  },
  {
   "cell_type": "code",
   "execution_count": 12,
   "metadata": {
    "ExecuteTime": {
     "end_time": "2024-01-29T16:15:05.944506368Z",
     "start_time": "2024-01-29T16:15:05.849514274Z"
    }
   },
   "source": [
    "s = cm.SemanticCostmap(kitchen, \"kitchen_island_surface\", size=100, resolution=0.02)\n",
    "\n",
    "g = cm.GaussianCostmap(200, 15, resolution=0.02)"
   ],
   "outputs": []
  },
  {
   "cell_type": "markdown",
   "metadata": {},
   "source": [
    "You can visualize the costmap in the BulletWorld to get an impression what information is actually contained in the costmap. With this you could also check if the costmap was created correctly. \n",
    "Visualization can be done via the 'visualize' method of each costmap."
   ]
  },
  {
   "cell_type": "code",
   "execution_count": 13,
   "metadata": {
    "ExecuteTime": {
     "end_time": "2024-01-29T16:15:06.810575822Z",
     "start_time": "2024-01-29T16:15:05.955432369Z"
    }
   },
   "source": [
    "o.visualize()"
   ],
   "outputs": []
  },
  {
   "cell_type": "code",
   "execution_count": 14,
   "metadata": {
    "ExecuteTime": {
     "end_time": "2024-01-29T16:15:07.161867271Z",
     "start_time": "2024-01-29T16:15:07.159806241Z"
    }
   },
   "source": [
    "o.close_visualization()"
   ],
   "outputs": []
  },
  {
   "cell_type": "markdown",
   "metadata": {},
   "source": [
    "It is also possible to combine two costmap, this will result in a new costmap with the same size which contains the information of both previous costmaps. Combination is done by checking for each position in the two costmaps if they are zero, in this case to same position in the new costmap will also be zero in any other case the new position will be the normalized product of the two combined costmaps."
   ]
  },
  {
   "cell_type": "code",
   "execution_count": 15,
   "metadata": {
    "ExecuteTime": {
     "end_time": "2024-01-29T16:15:07.193879719Z",
     "start_time": "2024-01-29T16:15:07.161787791Z"
    }
   },
   "source": [
    "ov = o + v"
   ],
   "outputs": []
  },
  {
   "cell_type": "code",
   "execution_count": 16,
   "metadata": {
    "ExecuteTime": {
     "end_time": "2024-01-29T16:15:09.283523209Z",
     "start_time": "2024-01-29T16:15:07.188128850Z"
    }
   },
   "source": [
    "ov.visualize()"
   ],
   "outputs": []
  },
  {
   "cell_type": "code",
   "execution_count": 17,
   "metadata": {
    "ExecuteTime": {
     "end_time": "2024-01-29T16:15:10.347228575Z",
     "start_time": "2024-01-29T16:15:09.280179794Z"
    }
   },
   "source": [
    "ov.close_visualization()"
   ],
   "outputs": []
  },
  {
   "cell_type": "markdown",
   "metadata": {},
   "source": [
    "## Bullet World Reasoning \n",
    "Allows for geometric reasoning in the BulletWorld. At the moment the following types of reasoning are supported:\n",
    "* Stable\n",
    "* Contact\n",
    "* Visible \n",
    "* Occluding \n",
    "* Reachable \n",
    "* Blocking\n",
    "* Supporting\n",
    "\n",
    "To show the geometric reasoning we first spawn a robot as well as the milk Object again."
   ]
  },
  {
   "cell_type": "code",
   "execution_count": 18,
   "metadata": {
    "ExecuteTime": {
     "end_time": "2024-01-29T16:15:12.961385558Z",
     "start_time": "2024-01-29T16:15:10.347682457Z"
    }
   },
   "source": [
    "import pycram.bullet_world_reasoning as btr\n",
    "milk = Object(\"Milk\", ObjectType.MILK, \"milk.stl\", pose=Pose([1, 0, 1]))\n",
    "pr2 = Object(\"pr2\", ObjectType.ROBOT, \"pr2.urdf\")"
   ],
   "outputs": []
  },
  {
   "cell_type": "markdown",
   "metadata": {},
   "source": [
    "We start with testing for visibility "
   ]
  },
  {
   "cell_type": "code",
   "execution_count": 19,
   "metadata": {
    "scrolled": true,
    "ExecuteTime": {
     "end_time": "2024-01-29T16:15:13.246942739Z",
     "start_time": "2024-01-29T16:15:12.963076402Z"
    }
   },
   "source": [
    "milk.set_position(Pose([1,0,1]))\n",
    "visible = btr.visible(milk, pr2.get_link_pose(\"wide_stereo_optical_frame\"))\n",
    "print(f\"Milk visible: {visible}\")"
   ],
   "outputs": []
  },
  {
   "cell_type": "code",
   "execution_count": 20,
   "metadata": {
    "ExecuteTime": {
     "end_time": "2024-01-29T16:15:13.334740244Z",
     "start_time": "2024-01-29T16:15:13.249042978Z"
    }
   },
   "source": [
    "milk.set_position(Pose([1, 0, 0.05]))\n",
    "\n",
    "plane = BulletWorld.current_bullet_world.objects[0]\n",
    "contact = btr.contact(milk, plane)\n",
    "print(f\"Milk is in contact with the floor: {contact}\")"
   ],
   "outputs": []
  },
  {
   "cell_type": "code",
   "execution_count": 21,
   "metadata": {
    "ExecuteTime": {
     "end_time": "2024-01-29T16:15:13.430296220Z",
     "start_time": "2024-01-29T16:15:13.334507309Z"
    }
   },
   "source": [
    "milk.set_position(Pose([0.6, -0.5, 0.7]))\n",
    "\n",
    "reachable = btr.reachable(milk, pr2, \"r_gripper_tool_frame\")\n",
    "print(f\"Milk is reachable for the PR2: {reachable}\")"
   ],
   "outputs": []
  },
  {
   "cell_type": "markdown",
   "metadata": {},
   "source": [
    "# Designators\n",
    "Designators are symbolic descriptions of Actions, Motions, Objects or Locations. In PyCRAM the different types of designators are represented by a class which takes a description, the description then tells the designator what to do. \n",
    "\n",
    "For example, let's look at a Motion Designator to move the robot to a specific location. \n",
    "\n"
   ]
  },
  {
   "cell_type": "markdown",
   "metadata": {},
   "source": [
    "## Motion Designators\n",
    "\n",
    "When using a Motion Designator you need to specify which Process Module needs to be used, either the Process Module for the real or the simulated robot. A Process Module is the interface between a real or simulated robot, and PyCRAM designators. By exchanging the Process Module, one can quickly change the robot the plan is executed on, allowing PyCRAM plans to be re-used across multiple robot platforms. This can be done either with a decorator which can be added to a function and then every designator executed within this function, will be executed on the specified robot. The other possibility is a \"with\" scope which wraps a code piece.\n",
    "\n",
    "These two ways can also be combined, you could write a function which should be executed on the real robot and the function contains a \"with\" scope which executes something on the simulated robot for reasoning purposes. "
   ]
  },
  {
   "cell_type": "code",
   "execution_count": 22,
   "metadata": {
    "ExecuteTime": {
     "end_time": "2024-01-29T16:15:13.939910370Z",
     "start_time": "2024-01-29T16:15:13.437727375Z"
    }
   },
   "source": [
    "from pycram.designators.motion_designator import *\n",
    "from pycram.process_module import simulated_robot, with_simulated_robot\n",
    "\n",
    "description = MoveMotion(target=Pose([1, 0, 0], [0, 0, 0, 1]))\n",
    "\n",
    "with simulated_robot:\n",
    "    description.perform()\n",
    "    \n"
   ],
   "outputs": []
  },
  {
   "cell_type": "code",
   "execution_count": 23,
   "metadata": {
    "scrolled": true,
    "ExecuteTime": {
     "end_time": "2024-01-29T16:15:14.446281217Z",
     "start_time": "2024-01-29T16:15:13.948689644Z"
    }
   },
   "source": [
    "from pycram.process_module import with_simulated_robot\n",
    "\n",
    "@with_simulated_robot\n",
    "def move():\n",
    "    MoveMotion(target=Pose([0, 0, 0], [0, 0, 0, 1])).perform()\n",
    "\n",
    "move()"
   ],
   "outputs": []
  },
  {
   "cell_type": "markdown",
   "metadata": {},
   "source": [
    "Other implemented Motion Designator descriptions are:\n",
    "* Accessing\n",
    "* Move TCP\n",
    "* Looking\n",
    "* Move Gripper\n",
    "* Detecting\n",
    "* Move Arm Joint \n",
    "* World State Detecting "
   ]
  },
  {
   "cell_type": "markdown",
   "metadata": {},
   "source": [
    "## Object Designators\n",
    "\n",
    "An Object Designator represents objects. These objects could either be from the BulletWorld or the real world. Object Designators are used, for example, by the PickUpAction to know which object should be picked up."
   ]
  },
  {
   "cell_type": "code",
   "execution_count": 24,
   "metadata": {
    "ExecuteTime": {
     "end_time": "2024-01-29T16:15:14.453344058Z",
     "start_time": "2024-01-29T16:15:14.448819583Z"
    }
   },
   "source": [
    "from pycram.designators.object_designator import *\n",
    "\n",
    "milk_desig = BelieveObject(names=[\"Milk\"])\n",
    "milk_desig.resolve()"
   ],
   "outputs": []
  },
  {
   "cell_type": "markdown",
   "metadata": {},
   "source": [
    "## Location Designator\n",
    "Location Designator can create a position in cartisian space from a symbolic desctiption"
   ]
  },
  {
   "cell_type": "code",
   "execution_count": 25,
   "metadata": {
    "scrolled": false,
    "ExecuteTime": {
     "end_time": "2024-01-29T16:15:14.493010865Z",
     "start_time": "2024-01-29T16:15:14.451251059Z"
    }
   },
   "source": [
    "from pycram.designators.object_designator import *\n",
    "\n",
    "milk_desig = BelieveObject(names=[\"Milk\"])\n",
    "milk_desig.resolve()"
   ],
   "outputs": []
  },
  {
   "cell_type": "markdown",
   "metadata": {},
   "source": [
    "## Location Designators\n",
    "Location Designators can create a position in cartesian space from a symbolic description."
   ]
  },
  {
   "cell_type": "code",
   "execution_count": 26,
   "metadata": {
    "scrolled": false,
    "ExecuteTime": {
     "end_time": "2024-01-29T16:15:22.177685226Z",
     "start_time": "2024-01-29T16:15:14.482072615Z"
    }
   },
   "source": [
    "from pycram.designators.location_designator import *\n",
    "from pycram.designators.object_designator import *\n",
    "\n",
    "robot_desig = BelieveObject(types=[ObjectType.ROBOT]).resolve()\n",
    "milk_desig = BelieveObject(names=[\"Milk\"]).resolve()\n",
    "location_desig = CostmapLocation(target=milk_desig, visible_for=robot_desig)\n",
    "\n",
    "print(f\"Resolved: {location_desig.resolve()}\")\n",
    "print()\n",
    "\n",
    "for pose in location_desig:\n",
    "    print(pose)\n",
    "                              "
   ],
   "outputs": []
  },
  {
   "cell_type": "markdown",
   "metadata": {},
   "source": [
    "# Action Designator\n",
    "Action Designators are used to describe high-level actions. Action Designators are usually composed of other Designators to describe the high-level action in detail. "
   ]
  },
  {
   "cell_type": "code",
   "execution_count": 27,
   "metadata": {
    "ExecuteTime": {
     "end_time": "2024-01-29T16:15:22.690059907Z",
     "start_time": "2024-01-29T16:15:22.178420266Z"
    }
   },
   "source": [
    "from pycram.designators.action_designator import *\n",
    "from pycram.enums import Arms\n",
    "\n",
    "with simulated_robot:\n",
    "    ParkArmsAction([Arms.BOTH]).resolve().perform()\n"
   ],
   "outputs": []
  },
  {
   "cell_type": "markdown",
   "metadata": {},
   "source": [
    "# Making a simple plan\n",
    "To get familiar with the PyCRAM Framework we will write a simple pick and place plan. This plan will let the robot grasp a cereal box from the kitchen counter and place it on the kitchen island. This is a simple pick and place plan."
   ]
  },
  {
   "cell_type": "code",
   "execution_count": 28,
   "metadata": {
    "ExecuteTime": {
     "end_time": "2024-01-29T16:15:22.784167007Z",
     "start_time": "2024-01-29T16:15:22.739698077Z"
    }
   },
   "source": [
    "from pycram.designators.object_designator import *\n",
    "cereal = Object(\"cereal\", ObjectType.BREAKFAST_CEREAL, \"breakfast_cereal.stl\", pose=Pose([1.4, 1, 0.95]))\n"
   ],
   "outputs": []
  },
  {
   "cell_type": "code",
   "execution_count": 29,
   "metadata": {
    "ExecuteTime": {
     "end_time": "2024-01-29T16:15:37.008203353Z",
     "start_time": "2024-01-29T16:15:22.784090487Z"
    }
   },
   "source": [
    "cereal_desig = ObjectDesignatorDescription(names=[\"cereal\"])\n",
    "kitchen_desig = ObjectDesignatorDescription(names=[\"kitchen\"])\n",
    "robot_desig = ObjectDesignatorDescription(names=[\"pr2\"]).resolve()\n",
    "with simulated_robot:\n",
    "    ParkArmsAction([Arms.BOTH]).resolve().perform()\n",
    "\n",
    "    MoveTorsoAction([0.3]).resolve().perform()\n",
    "\n",
    "    pickup_pose = CostmapLocation(target=cereal_desig.resolve(), reachable_for=robot_desig).resolve()\n",
    "    pickup_arm = pickup_pose.reachable_arms[0]\n",
    "\n",
    "    NavigateAction(target_locations=[pickup_pose.pose]).resolve().perform()\n",
    "\n",
    "    PickUpAction(object_designator_description=cereal_desig, arms=[pickup_arm], grasps=[\"front\"]).resolve().perform()\n",
    "\n",
    "    ParkArmsAction([Arms.BOTH]).resolve().perform()\n",
    "\n",
    "    place_island = SemanticCostmapLocation(\"kitchen_island_surface\", kitchen_desig.resolve(), cereal_desig.resolve()).resolve()\n",
    "\n",
    "    place_stand = CostmapLocation(place_island.pose, reachable_for=robot_desig, reachable_arm=pickup_arm).resolve()\n",
    "\n",
    "    NavigateAction(target_locations=[place_stand.pose]).resolve().perform()\n",
    "\n",
    "    PlaceAction(cereal_desig, target_locations=[place_island.pose], arms=[pickup_arm]).resolve().perform()\n",
    "\n",
    "    ParkArmsAction([Arms.BOTH]).resolve().perform()\n",
    "    \n",
    "    \n",
    "    "
   ],
   "outputs": []
  },
  {
   "cell_type": "markdown",
   "metadata": {},
   "source": [
    "# Task Trees\n",
    "Task trees are a hierarchical representation of all Actions involved in a plan. The Task tree can later be used to inspect and restructure the execution order of Actions in the plan."
   ]
  },
  {
   "cell_type": "code",
   "execution_count": 30,
   "metadata": {
    "ExecuteTime": {
     "end_time": "2024-01-29T16:15:37.015721112Z",
     "start_time": "2024-01-29T16:15:37.010004750Z"
    }
   },
   "source": [
    "import pycram.task\n",
    "import anytree\n",
    "tt = pycram.task.task_tree\n",
    "print(anytree.RenderTree(tt))"
   ],
   "outputs": []
  },
  {
   "cell_type": "code",
   "execution_count": 31,
   "metadata": {
    "ExecuteTime": {
     "end_time": "2024-01-29T16:15:37.200246997Z",
     "start_time": "2024-01-29T16:15:37.012295886Z"
    }
   },
   "source": [
    "from anytree.dotexport import RenderTreeGraph, DotExporter\n",
    "RenderTreeGraph(tt).to_picture(\"tree.png\")"
   ],
   "outputs": []
  },
  {
   "cell_type": "markdown",
   "metadata": {},
   "source": [
    "# ORM\n"
   ]
  },
  {
   "cell_type": "code",
   "execution_count": 32,
   "metadata": {
    "ExecuteTime": {
     "end_time": "2024-01-29T16:15:37.447175714Z",
     "start_time": "2024-01-29T16:15:37.236464380Z"
    }
   },
   "source": [
    "import sqlalchemy.orm\n",
    "import pycram.orm.base\n",
    "import pycram.orm.action_designator\n",
    "\n",
    "# set description of what we are doing\n",
    "pycram.orm.base.ProcessMetaData().description = \"Tutorial for getting familiar with the ORM.\"\n",
    "\n",
    "engine = sqlalchemy.create_engine(\"sqlite+pysqlite:///:memory:\", echo=False)\n",
    "session = sqlalchemy.orm.Session(bind=engine)\n",
    "pycram.orm.base.Base.metadata.create_all(engine)\n",
    "session.commit()\n",
    "\n",
    "\n",
    "tt.insert(session)"
   ],
   "outputs": []
  },
  {
   "cell_type": "code",
   "execution_count": 33,
   "metadata": {
    "ExecuteTime": {
     "end_time": "2024-01-29T16:15:37.488726709Z",
     "start_time": "2024-01-29T16:15:37.444290355Z"
    }
   },
   "source": [
    "from sqlalchemy import select\n",
    "\n",
    "navigations = session.scalars(select(pycram.orm.action_designator.NavigateAction)).all()\n",
    "print(*navigations, sep=\"\\n\")"
   ],
   "outputs": []
  },
  {
   "cell_type": "code",
   "execution_count": 34,
   "metadata": {
    "ExecuteTime": {
     "end_time": "2024-01-29T16:15:37.489720308Z",
     "start_time": "2024-01-29T16:15:37.488078620Z"
    }
   },
   "source": [
    "navigations = (session.scalars(select(pycram.orm.action_designator.NavigateAction, pycram.orm.base.Position, pycram.orm.base.Quaternion).\n",
    "                               join(pycram.orm.action_designator.NavigateAction.pose).\n",
    "                               join(pycram.orm.base.Pose.position).\n",
    "                               join(pycram.orm.base.Pose.orientation)).all())\n",
    "print(*navigations, sep=\"\\n\")"
   ],
   "outputs": []
  },
  {
   "cell_type": "markdown",
   "source": [
    "The world can also be closed with the 'exit' method"
   ],
   "metadata": {
    "collapsed": false
   }
  },
  {
   "cell_type": "code",
   "execution_count": 35,
   "source": [
    "world.exit()"
   ],
   "metadata": {
    "collapsed": false,
    "ExecuteTime": {
     "end_time": "2024-01-29T16:15:37.732405944Z",
     "start_time": "2024-01-29T16:15:37.488193658Z"
    }
   },
   "outputs": []
  }
 ],
 "metadata": {
  "kernelspec": {
   "display_name": "Python 3",
   "language": "python",
   "name": "python3"
  },
  "language_info": {
   "codemirror_mode": {
    "name": "ipython",
    "version": 3
   },
   "file_extension": ".py",
   "mimetype": "text/x-python",
   "name": "python",
   "nbconvert_exporter": "python",
   "pygments_lexer": "ipython3",
   "version": "3.8.10"
  }
 },
 "nbformat": 4,
 "nbformat_minor": 4
}
