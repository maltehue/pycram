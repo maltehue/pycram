{
 "cells": [
  {
   "cell_type": "markdown",
   "source": [
    "# ORM querying examples\n",
    "\n",
    "In this tutorial, we will get to see more examples of ORM querying. "
   ],
   "metadata": {
    "collapsed": false
   },
   "id": "fd9fecfda4dba1e2"
  },
  {
   "cell_type": "markdown",
   "source": [
    "First, we will gather a lot of data. In order to achieve that we will write a randomized experiment for grasping a couple of objects.\n",
    "In the experiment the robot will try to grasp a randomized object using random poses and torso heights.\n"
   ],
   "metadata": {
    "collapsed": false
   },
   "id": "10503a4ee2870550"
  },
  {
   "cell_type": "code",
   "execution_count": 1,
   "source": [
    "from pycram.designators.actions.actions import MoveTorsoActionPerformable, ParkArmsActionPerformable\n",
    "from tf import transformations\n",
    "import itertools\n",
    "import time\n",
    "from typing import Optional, List, Tuple\n",
    "\n",
    "import numpy as np\n",
    "\n",
    "import sqlalchemy.orm\n",
    "import tf\n",
    "import tqdm\n",
    "\n",
    "import pycram.orm.base\n",
    "import pycram.task\n",
    "from pycram.bullet_world import BulletWorld, Object as BulletWorldObject\n",
    "from pycram.designators.action_designator import MoveTorsoAction, PickUpAction, NavigateAction, ParkArmsAction\n",
    "from pycram.designators.object_designator import ObjectDesignatorDescription\n",
    "import pycram.enums\n",
    "from pycram.plan_failures import PlanFailure\n",
    "from pycram.process_module import ProcessModule\n",
    "\n",
    "from pycram.process_module import simulated_robot\n",
    "import sqlalchemy.orm\n",
    "# from pycram.resolver.location.jpt_location import JPTCostmapLocation\n",
    "import pycram.orm\n",
    "from pycram.orm.base import Position, RobotState\n",
    "from pycram.orm.task import TaskTreeNode, Code\n",
    "from pycram.orm.action_designator import PickUpAction as ORMPickUpAction\n",
    "from pycram.orm.object_designator import Object\n",
    "import sqlalchemy.sql\n",
    "import pandas as pd\n",
    "\n",
    "from pycram.pose import Pose\n",
    "\n",
    "np.random.seed(420)\n",
    "\n",
    "ProcessModule.execution_delay = False\n",
    "pycram.orm.base.ProcessMetaData().description = \"Tutorial for learning from experience in a Grasping action.\"\n",
    "\n",
    "\n",
    "class GraspingExplorer:\n",
    "    \"\"\"Class to try randomized grasping plans.\"\"\"\n",
    "\n",
    "    world: Optional[BulletWorld]\n",
    "\n",
    "    def __init__(self, robots: Optional[List[Tuple[str, str]]] = None, objects: Optional[List[Tuple[str, str]]] = None,\n",
    "                 arms: Optional[List[str]] = None, grasps: Optional[List[str]] = None,\n",
    "                 samples_per_scenario: int = 1000):\n",
    "        \"\"\"\n",
    "        Create a GraspingExplorer.\n",
    "        :param robots: The robots to use\n",
    "        :param objects: The objects to try to grasp\n",
    "        :param arms: The arms of the robot to use\n",
    "        :param grasps: The grasp orientations to use\n",
    "        :param samples_per_scenario: The number of tries per scenario.\n",
    "        \"\"\"\n",
    "        # store exploration space\n",
    "        if not robots:\n",
    "            self.robots: List[Tuple[str, str]] = [(\"pr2\", \"pr2.urdf\")]\n",
    "\n",
    "        if not objects:\n",
    "            self.objects: List[Tuple[str, pycram.enums.ObjectType, str]] = [(\"cereal\", pycram.enums.ObjectType.BREAKFAST_CEREAL, \"breakfast_cereal.stl\"),\n",
    "                                                                            (\"bowl\", pycram.enums.ObjectType.BOWL, \"bowl.stl\"),\n",
    "                                                                            (\"milk\", pycram.enums.ObjectType.MILK, \"milk.stl\"),\n",
    "                                                                            (\"spoon\", pycram.enums.ObjectType.SPOON, \"spoon.stl\")]\n",
    "\n",
    "        if not arms:\n",
    "            self.arms: List[str] = [\"left\", \"right\"]\n",
    "\n",
    "        if not grasps:\n",
    "            self.grasps: List[str] = [\"left\", \"right\", \"front\", \"top\"]\n",
    "\n",
    "        # store trials per scenario\n",
    "        self.samples_per_scenario: int = samples_per_scenario\n",
    "\n",
    "        # chain hyperparameters\n",
    "        self.hyper_parameters = [self.robots, self.objects, self.arms, self.grasps]\n",
    "\n",
    "        self.total_tries = 0\n",
    "        self.total_failures = 0\n",
    "\n",
    "    def perform(self, session: sqlalchemy.orm.Session):\n",
    "        \"\"\"\n",
    "        Perform all experiments.\n",
    "        :param session: The database-session to insert the samples in.\n",
    "        \"\"\"\n",
    "\n",
    "        # create progress bar\n",
    "        progress_bar = tqdm.tqdm(\n",
    "            total=np.prod([len(p) for p in self.hyper_parameters]) * self.samples_per_scenario)\n",
    "\n",
    "        self.world = BulletWorld(\"DIRECT\")\n",
    "\n",
    "        # for every robot\n",
    "        for robot, robot_urdf in self.robots:\n",
    "\n",
    "            # spawn it\n",
    "            robot = BulletWorldObject(robot, pycram.enums.ObjectType.ROBOT, robot_urdf)\n",
    "\n",
    "            # for every obj\n",
    "            for obj, obj_type, obj_stl in self.objects:\n",
    "\n",
    "                # spawn it\n",
    "                bw_object = BulletWorldObject(obj, obj_type, obj_stl, Pose([0, 0, 0.75], [0, 0, 0, 1]))\n",
    "\n",
    "                # create object designator\n",
    "                object_designator = ObjectDesignatorDescription(names=[obj])\n",
    "\n",
    "                # for every arm and grasp pose\n",
    "                for arm, grasp in itertools.product(self.arms, self.grasps):\n",
    "                    # sample positions in 2D\n",
    "                    positions = np.random.uniform([-2, -2], [2, 2], (self.samples_per_scenario, 2))\n",
    "\n",
    "                    # for every position\n",
    "                    for position in positions:\n",
    "\n",
    "                        # set z axis to 0\n",
    "                        position = [*position, 0]\n",
    "\n",
    "                        # calculate orientation for robot to face the object\n",
    "                        angle = np.arctan2(position[1], position[0]) + np.pi\n",
    "                        orientation = list(transformations.quaternion_from_euler(0, 0, angle, axes=\"sxyz\"))\n",
    "\n",
    "                        # try to execute a grasping plan\n",
    "                        with simulated_robot:\n",
    "\n",
    "                            ParkArmsActionPerformable(pycram.enums.Arms.BOTH).perform()\n",
    "                            # navigate to sampled position\n",
    "                            NavigateAction([Pose(position, orientation)]).resolve().perform()\n",
    "\n",
    "                            # move torso\n",
    "                            height = np.random.uniform(0., 0.33, 1)[0]\n",
    "                            MoveTorsoActionPerformable(height).perform()\n",
    "\n",
    "                            # try to pick it up\n",
    "                            try:\n",
    "                                PickUpAction(object_designator, [arm], [grasp]).resolve().perform()\n",
    "\n",
    "                            # if it fails\n",
    "                            except PlanFailure:\n",
    "\n",
    "                                # update failure stats\n",
    "                                self.total_failures += 1\n",
    "\n",
    "                            # reset BulletWorld\n",
    "                            self.world.reset_bullet_world()\n",
    "\n",
    "                            # update progress bar\n",
    "                            self.total_tries += 1\n",
    "\n",
    "                            # insert into database\n",
    "                            pycram.task.task_tree.insert(session, use_progress_bar=False)\n",
    "                            pycram.task.reset_tree()\n",
    "\n",
    "                            progress_bar.update()\n",
    "                            progress_bar.set_postfix(success_rate=(self.total_tries - self.total_failures) /\n",
    "                                                                  self.total_tries)\n",
    "\n",
    "                bw_object.remove()\n",
    "            robot.remove()\n"
   ],
   "metadata": {
    "collapsed": false,
    "ExecuteTime": {
     "end_time": "2024-01-29T16:54:39.452156158Z",
     "start_time": "2024-01-29T16:54:38.500054294Z"
    }
   },
   "id": "dc0c9e6f15f126a3",
   "outputs": []
  },
  {
   "cell_type": "markdown",
   "source": [
    "Next we have to establish a connection to a database and execute the experiment a couple of times. Note that the (few) number of samples we generate is only for demonstrations.\n",
    "For robust and reliable machine learning millions of samples are required.\n"
   ],
   "metadata": {
    "collapsed": false
   },
   "id": "c551ddd0fda0007b"
  },
  {
   "cell_type": "code",
   "execution_count": 2,
   "source": [
    "engine = sqlalchemy.create_engine(\"sqlite+pysqlite:///:memory:\")\n",
    "session = sqlalchemy.orm.Session(bind=engine)\n",
    "pycram.orm.base.Base.metadata.create_all(bind=engine)\n",
    "session.commit()\n",
    "\n",
    "explorer = GraspingExplorer(samples_per_scenario=30)\n",
    "explorer.perform(session)"
   ],
   "metadata": {
    "collapsed": false,
    "ExecuteTime": {
     "end_time": "2024-01-29T16:56:53.360247565Z",
     "start_time": "2024-01-29T16:54:39.452769369Z"
    }
   },
   "id": "f2dcacd942218899",
   "outputs": []
  },
  {
   "cell_type": "markdown",
   "source": [
    "The success_rate of the output above indicates how many of our samples succeeded in trying to grasp a randomized object."
   ],
   "metadata": {
    "collapsed": false
   },
   "id": "eb69cbf79392c159"
  },
  {
   "cell_type": "markdown",
   "source": [
    "Now that we have data to query from and a running session, we can actually start creating queries. \n",
    "Let's say we want to select positions of robots that were able to grasp a specific object (in this case a \"milk\" object):"
   ],
   "metadata": {
    "collapsed": false
   },
   "id": "4b9a9e8eb214cffe"
  },
  {
   "cell_type": "code",
   "execution_count": 3,
   "source": [
    "from sqlalchemy import select\n",
    "from pycram.enums import ObjectType\n",
    "\n",
    "milk = BulletWorldObject(\"Milk\", ObjectType.MILK, \"milk.stl\")\n",
    "\n",
    "# query all relative robot positions in regard to an objects position\n",
    "# make sure to order the joins() correctly\n",
    "query = (select(ORMPickUpAction.arm, ORMPickUpAction.grasp, RobotState.torso_height, Position.x, Position.y)\n",
    "         .join(TaskTreeNode.code)\n",
    "         .join(Code.designator.of_type(ORMPickUpAction))\n",
    "         .join(ORMPickUpAction.robot_state)\n",
    "         .join(RobotState.pose)\n",
    "         .join(pycram.orm.base.Pose.position)\n",
    "         .join(ORMPickUpAction.object).where(Object.type == milk.type)\n",
    "                                      .where(TaskTreeNode.status == \"SUCCEEDED\"))\n",
    "print(query)\n",
    "\n",
    "df = pd.read_sql_query(query, session.get_bind())\n",
    "print(df)"
   ],
   "metadata": {
    "collapsed": false,
    "ExecuteTime": {
     "end_time": "2024-01-29T16:56:53.362279642Z",
     "start_time": "2024-01-29T16:56:53.360090447Z"
    }
   },
   "id": "b17c6366f317dd7",
   "outputs": []
  },
  {
   "cell_type": "markdown",
   "source": [
    "If you are not familiar with sqlalchemy querying you might wonder what the of_type() function does and why we needed it in this query:\n",
    "\n",
    "In order to understand the importance of the of_type() function in the joins above it is crucial to understand the inheritance structure in the ORM package. The action necessary for this query is the PickUpAction. It inherits the Action class/table (which holds all the actions). The Action class itself on the other hand inherits Designator (which holds all the actions, but also all the motions). \n",
    "We started our joins by joining TaskTreeNode on its relationship to Code and Code on its relationship to Designator. Next table we need is the PickUpAction table, but there is no specified relationship between Designator and PickUpAction. But we do know that a PickUpAction is actually a Designator, meaning, it inherits from Designator. So we can just \"tell\" the join to join Code on every Designator, that is \"of_type\" PickUpAction (.join(Code.designator.of_type(ORMPickUpAction))). \n",
    "The effect of this function can also be seen in the printed query of above's output. "
   ],
   "metadata": {
    "collapsed": false
   },
   "id": "d53477bfd91a1b9b"
  },
  {
   "cell_type": "markdown",
   "source": [
    "Another interesting query: Let's say we want to select the torso height and positions of robots relative to the object they were trying to grasp:"
   ],
   "metadata": {
    "collapsed": false
   },
   "id": "ffce85c0e49bb618"
  },
  {
   "cell_type": "code",
   "execution_count": 4,
   "source": [
    "from pycram.orm.base import Pose as ORMPose\n",
    "\n",
    "robot_pose = sqlalchemy.orm.aliased(ORMPose)\n",
    "object_pose = sqlalchemy.orm.aliased(ORMPose)\n",
    "robot_position = sqlalchemy.orm.aliased(Position)\n",
    "object_position = sqlalchemy.orm.aliased(Position)\n",
    "\n",
    "query = (select(TaskTreeNode.status, Object.type, \n",
    "                       sqlalchemy.label(\"relative torso height\", object_position.z - RobotState.torso_height),\n",
    "                       sqlalchemy.label(\"x\", robot_position.x - object_position.x),\n",
    "                       sqlalchemy.label(\"y\", robot_position.y - object_position.y))\n",
    "         .join(TaskTreeNode.code)\n",
    "         .join(Code.designator.of_type(ORMPickUpAction))\n",
    "         .join(ORMPickUpAction.robot_state)\n",
    "         .join(robot_pose, RobotState.pose)\n",
    "         .join(robot_position, robot_pose.position)\n",
    "         .join(ORMPickUpAction.object)\n",
    "         .join(object_pose, Object.pose)\n",
    "         .join(object_position, object_pose.position))\n",
    "print(query)\n",
    "\n",
    "df = pd.read_sql(query, session.get_bind())\n",
    "df[\"status\"] = df[\"status\"].apply(lambda x: str(x.name))\n",
    "print(df)"
   ],
   "metadata": {
    "collapsed": false,
    "ExecuteTime": {
     "end_time": "2024-01-29T16:56:53.408414208Z",
     "start_time": "2024-01-29T16:56:53.408012819Z"
    }
   },
   "id": "a89d1a0f2a933475",
   "outputs": []
  },
  {
   "cell_type": "markdown",
   "source": [
    "Obviously the query returned every row of the database since we didn't apply any filters.\n",
    "\n",
    "Why is this query interesting? This query not only required more joins and the usage of the of_type() function, but we actually needed to access two of the tables twice with different purposes, namely the Pose and Position tables. We wanted to get the position of the robot relative to the object position, meaning we had to obtain all robot positions and all object positions. If we want to access the same table twice, we have to make sure to rename (one of) the occurrences in our query in order to provide proper sql syntax. This can be done by creating aliases using the sqlalchemy.orm.aliased() function. Sqlalchemy will automatically rename all the aliased tables for you during runtime."
   ],
   "metadata": {
    "collapsed": false
   },
   "id": "805dbb7e8b69ef3a"
  }
 ],
 "metadata": {
  "kernelspec": {
   "display_name": "Python 3",
   "language": "python",
   "name": "python3"
  },
  "language_info": {
   "codemirror_mode": {
    "name": "ipython",
    "version": 2
   },
   "file_extension": ".py",
   "mimetype": "text/x-python",
   "name": "python",
   "nbconvert_exporter": "python",
   "pygments_lexer": "ipython2",
   "version": "2.7.6"
  }
 },
 "nbformat": 4,
 "nbformat_minor": 5
}
