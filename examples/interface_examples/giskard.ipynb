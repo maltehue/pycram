{
 "cells": [
  {
   "cell_type": "markdown",
   "id": "6577676e",
   "metadata": {},
   "source": [
    "# Giskard interface in PyCRAM\n",
    "This notebook should provide you with an example on how to use the Giskard interface. This includes how to use the interface, how it actually works and how to extend it. \n",
    "\n",
    "We start by installing and launching Giskard. For the installation please follow the instructions [here](https://github.com/SemRoCo/giskardpy).\n",
    "After you finish the installation you should be able to launch Giskard by calling: \n",
    "```\n",
    "roslaunch giskardpy giskardpy_pr2_standalone.launch\n",
    "```\n",
    "\n",
    "This way you can launch Giskard for any robot that is supported:\n",
    "```\n",
    "roslaunch giskardpy giskardpy_hsr_standalone.launch\n",
    "```\n",
    "\"Standalone\" means that Giskard only uses a simulated robot and does not look for a real robot. If you want to use Giskard with a real robot you have to switch out \"standalone\" with \"iai\", e.g:\n",
    "```\n",
    "roslaunch giskardpy giskardpy_hsr_iai.launch\n",
    "```\n",
    "\n",
    "To see what Giskard is doing you can start RViz, there should already be a MarkerArray when starting otherwise you have to add this manually."
   ]
  },
  {
   "cell_type": "markdown",
   "id": "a86d4f3b",
   "metadata": {},
   "source": [
    "## How to use the Giskard interface \n",
    "Everything related to the Giskard interface is located in ```pycram.external_interfaces.giskard```. \n",
    "The content of the file can be roughly divided into three parts:\n",
    "    1. Methods to manage the belief states between PyCRAM and Giskard\n",
    "    2. Motion goals that should be sent to Giskard for execution \n",
    "    3. Helper methods to construct ROS messages\n",
    "    \n",
    "The most useful methods are the ones for sending and executing Motion goals. These are the ones we will mostly look at.\n",
    "\n",
    "We will now start by setting up PyCRAM and then try to send some simple motion goals."
   ]
  },
  {
   "cell_type": "code",
   "execution_count": 1,
   "id": "50cd3e8d",
   "metadata": {},
   "source": [
    "from pycram.bullet_world import BulletWorld, Object\n",
    "from pycram.enums import ObjectType\n",
    "\n",
    "world = BulletWorld()\n",
    "pr2 = Object(\"pr2\", ObjectType.ROBOT, \"pr2.urdf\")"
   ],
   "outputs": []
  },
  {
   "cell_type": "markdown",
   "id": "e4166109",
   "metadata": {},
   "source": [
    "When you are working on the real robot you also need to initialize the RobotStateUpdater, this module updates the robot in the BulletWorld with the pose and joint state of the real robot. \n",
    "\n",
    "You might need to change to topic names to fit the topic names as published by your robot. "
   ]
  },
  {
   "cell_type": "code",
   "execution_count": null,
   "id": "a3eff6ba",
   "metadata": {},
   "source": [
    "from pycram.ros.robot_state_updater import RobotStateUpdater\n",
    "\n",
    "r = RobotStateUpdater(\"/tf\", \"/joint_states\")"
   ],
   "outputs": []
  },
  {
   "cell_type": "markdown",
   "id": "f4c4f85d",
   "metadata": {},
   "source": [
    "Now we have a PyCRAM belief state set up, belief state in this case just refers to the BulletWorld since the BulletWorld represents what we believe the world to look like. \n",
    "\n",
    "The next step will be to send a simple motion goal. The motion goal we will be sending is moving the torso up. For this we just need to move one joint, so we can use the ```achive_joint_goal```. This method takes a dictionary with the joints that should be moved and the target value for the joints. \n",
    "\n",
    "Look at RViz to see the robot move, since we call Giskard for movement the robot in the BulletWorld will not move."
   ]
  },
  {
   "cell_type": "code",
   "execution_count": null,
   "id": "79fb8a5a",
   "metadata": {
    "scrolled": true
   },
   "source": [
    "from pycram.external_interfaces import giskard\n",
    "\n",
    "giskard.achieve_joint_goal({\"torso_lift_joint\": 0.28})"
   ],
   "outputs": []
  },
  {
   "cell_type": "markdown",
   "id": "77dbded9",
   "metadata": {},
   "source": [
    "For Giskard everything is connected by joints (this is called a [World Tree](https://github.com/SemRoCo/giskardpy/wiki/World-Tree) by Giskard) therefore we can move the robot's base by using motion goals between the map origin and the robot base. (e.g. by sending a \"base_link\" goal in the \"map\" frame).\n",
    "\n",
    "In the example below we use a cartesian goal, meaning we give Giskard a goal pose, a root link and a tip link and Giskard tries to move all joints between root link and tip link such that the tip link is at the goal pose.\n",
    "\n",
    "This sort of movement is fine for short distances, but keep in mind that Giskard has no collision avoidance for longer journeys. So using MoveBase for longer distances is a better idea."
   ]
  },
  {
   "cell_type": "code",
   "execution_count": null,
   "id": "ec79b6b5",
   "metadata": {},
   "source": [
    "from pycram.external_interfaces import giskard\n",
    "from pycram.pose import Pose\n",
    "\n",
    "giskard.achieve_cartesian_goal(Pose([1, 0, 0]), \"base_link\", \"map\")"
   ],
   "outputs": []
  },
  {
   "cell_type": "markdown",
   "id": "98af5723",
   "metadata": {},
   "source": [
    "Now for the last example: we will move the gripper using full body motion control. \n",
    "\n",
    "We will again use the cartesian goal, but now between \"map\" and \"r_gripper_tool_frame\" frames. This will not only move the robot (because the kinematic chain between \"map\" and \"base_link\" as used in the previous example is also part of this chain) but also move the arm of the robot such that it reaches the goal pose."
   ]
  },
  {
   "cell_type": "code",
   "execution_count": null,
   "id": "a255212e",
   "metadata": {},
   "source": [
    "from pycram.external_interfaces import giskard\n",
    "from pycram.pose import Pose\n",
    "\n",
    "giskard.achieve_cartesian_goal(Pose([1, 0.5, 0.7]), \"r_gripper_tool_frame\", \"map\")"
   ],
   "outputs": []
  },
  {
   "cell_type": "markdown",
   "id": "7dfe78ba",
   "metadata": {},
   "source": [
    "That concludes this example you can now close the BulletWorld by using the \"exit\" method."
   ]
  },
  {
   "cell_type": "code",
   "execution_count": 7,
   "id": "197aa1f0",
   "metadata": {},
   "source": [
    "world.exit()"
   ],
   "outputs": []
  },
  {
   "cell_type": "markdown",
   "id": "2ae027ac",
   "metadata": {},
   "source": [
    "## How the Giskard interface works \n",
    "The PyCRAM interface to Giskard mostly relies on the Python interface that Giskard already provides ([tutorial](https://github.com/SemRoCo/giskardpy/wiki/Python-Interface) and the [source code](https://github.com/SemRoCo/giskardpy/blob/master/src/giskardpy/python_interface.py)). This interface provides methods to achieve motion goals and load things into the Giskard believe state. \n",
    "\n",
    "What PyCRAM does with this, is: Synchronize the belief state of Giskard with the one of PyCRAM by loading the environment URDF in Giskard, this is done before any motion goal is sent. Furthermore, the motion goals are wrapped in methods that use PyCRAM data types. \n",
    "\n",
    "You can also set collisions between different groups of links. By default, Giskard avoids all collisions but for things like grasping an object you want to allow collisions of the gripper. The interface also supports the following collision modes:\n",
    "    * avoid_all_collisions\n",
    "    * allow_self_collision\n",
    "    * allow_gripper_collision\n",
    "The collision mode can be set by calling the respective method, after calling the method the collision mode is valid for the next motion goal. Afterwards, it defaults back to avoid_all_collisions.\n",
    "\n",
    "There is a ```init_giskard_interface``` method which can be used as a decorator. This decorator should be used on all methods that access the giskard_wrapper, since it assures that the interface is working and checks if Giskard died or the imports for the giskard_msgs failed. "
   ]
  },
  {
   "cell_type": "markdown",
   "id": "6908a9ab",
   "metadata": {},
   "source": [
    "## Extend the Giskard interface\n",
    "At the moment the PyCRAM Giskard interface is mostly a wrapper around the Python interface provided by Giskard. If you want to extend the interface there are two ways:\n",
    "   * Wrap more motion goals which are provided by the Python interface \n",
    "   * Design new Higher-Level motion goals by combining the motion goals already provided"
   ]
  }
 ],
 "metadata": {
  "kernelspec": {
   "display_name": "Python 3",
   "language": "python",
   "name": "python3"
  },
  "language_info": {
   "codemirror_mode": {
    "name": "ipython",
    "version": 3
   },
   "file_extension": ".py",
   "mimetype": "text/x-python",
   "name": "python",
   "nbconvert_exporter": "python",
   "pygments_lexer": "ipython3",
   "version": "3.8.10"
  }
 },
 "nbformat": 4,
 "nbformat_minor": 5
}
