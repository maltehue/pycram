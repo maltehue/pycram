{
 "cells": [
  {
   "cell_type": "markdown",
   "id": "ff56f06c",
   "metadata": {},
   "source": [
    "# Plan Language\n",
    "The PyCRAM plan language is a way to structure the execuition of your plan. In generall the plan language allows to execute designators either sequential or in parallel. Furthermore, excpetions that occur during execution of a plan with the plan language do not interupt the execution instead they are catched and saved to a dictionary for later analysis. All language expressions return a State, this can either be SUCCEDED or FAILED.\n",
    "\n",
    "There are 4 language expressions: \n",
    "\n",
    "| Expression | Name | Description| \n",
    "| ---------- | ---- | ---------- |\n",
    "| + | **Sequential** | Executes the designators one after another, if one of the designators raises an exception the execution is aborted and the state FAILED will be returned.  |\n",
    "| - | **Try In Order** | Executes the designators one after another, if one designator raises an exception the exception is catched and saved but the execution is not interrupted and the other designators are executed. Returns the state SUCCEDED if at least one designator can be executed without exception. |\n",
    "| * | **Repeat** | Repeat the previous language expression a number of time. Has to be used with a language expression and an integer. | \n",
    "| \\| | **Parallel** | Executes all designators in parallel. For each designator there will be a new thread created and the designator is executed in this thread. If one of the designators raises an exception the returned state will be FAILED. |\n",
    "| ^ | **Try All** | Executes all designators in parallel with a designated thread for each designator. Returns the state SUCCEDED if at least one designator can be executed without an exception|\n",
    "| >> | **Monitor** | Monitors the execution of the attached langauge expression, will interrupt the execution as soon as a given condition is fulfilled. | \n",
    "\n",
    "The Sequential expression is the only one which aborts the execution once an error is raised. \n",
    "\n",
    "When using the plan language a tree structure of the plan is created where the language expressions are nodes and designators are leafs. This tree uses AnyTree (like the task tree) and can be rendered with the anytree Renderer.    "
   ]
  },
  {
   "cell_type": "markdown",
   "id": "991a0452",
   "metadata": {},
   "source": [
    "## Sequential\n",
    "This language expression allows to execute designators one after another, if one of the designators raises an exception the execution will be aborted and the state FAILED will be returned. \n",
    "\n",
    "We will start with a simple example that uses an action designator for moving the robot and parking its arms. "
   ]
  },
  {
   "cell_type": "code",
   "execution_count": 1,
   "id": "7a59fc84",
   "metadata": {},
   "source": [
    "import time\n",
    "\n",
    "from pycram.designators.action_designator import *\n",
    "from pycram.pose import Pose\n",
    "from pycram.enums import Arms\n",
    "\n",
    "navigate = NavigateAction([Pose([1, 1, 0])])\n",
    "park = ParkArmsAction([Arms.BOTH])\n",
    "\n",
    "plan = navigate + park"
   ],
   "outputs": []
  },
  {
   "cell_type": "markdown",
   "id": "1d7d865a",
   "metadata": {},
   "source": [
    "With this simple plan created we can inspect it and render the created tree structure. "
   ]
  },
  {
   "cell_type": "code",
   "execution_count": 2,
   "id": "4daddac3",
   "metadata": {},
   "source": [
    "from anytree import RenderTree\n",
    "\n",
    "print(RenderTree(plan))"
   ],
   "outputs": []
  },
  {
   "cell_type": "markdown",
   "id": "97f49955",
   "metadata": {},
   "source": [
    "As you can see there is the root node which is the language expression and then there are the leafs which are the designators. When executing this plan the Sequential node will try to execute the NavigateAction and if that is finished without any error the ParkArmsAction will be executed. \n",
    "\n",
    "The plan can be executed by wrapping it inside a ```with simulated_robot``` envirionment and calling perform on the plan. \n",
    "\n",
    "If you are performing a plan with a simulated robot, you need a BulletWorld. "
   ]
  },
  {
   "cell_type": "code",
   "execution_count": 1,
   "id": "f362a62c",
   "metadata": {
    "ExecuteTime": {
     "end_time": "2024-01-10T13:40:14.972773461Z",
     "start_time": "2024-01-10T13:40:14.922450288Z"
    }
   },
   "source": [
    "from pycram.bullet_world import BulletWorld, Object\n",
    "from pycram.enums import ObjectType\n",
    "\n",
    "world = BulletWorld()\n",
    "pr2  = Object(\"pr2\", ObjectType.ROBOT, \"pr2.urdf\")"
   ],
   "outputs": []
  },
  {
   "cell_type": "markdown",
   "id": "bf78a272",
   "metadata": {},
   "source": [
    "If you are finished with this example you can close the world with the cell below."
   ]
  },
  {
   "cell_type": "code",
   "execution_count": 10,
   "id": "3a949210",
   "metadata": {},
   "source": [
    "world.exit()"
   ],
   "outputs": []
  },
  {
   "cell_type": "code",
   "execution_count": 4,
   "id": "72bd6598",
   "metadata": {},
   "source": [
    "from pycram.process_module import simulated_robot\n",
    "world.reset_bullet_world()\n",
    "\n",
    "with simulated_robot:\n",
    "    plan.perform()"
   ],
   "outputs": []
  },
  {
   "cell_type": "markdown",
   "id": "21725713",
   "metadata": {},
   "source": [
    "## Try In Order\n",
    "Try in order is similar to Sequential, it also executes all designators one after another but the key difference is that an exception in one of the designators does not terminate the whole execution. Furthermore, the state FAILED will only be returned if all designator executions raise an error. \n",
    "\n",
    "Besides the described differnce in behaviour this language expression can be used in the same way as Sequential."
   ]
  },
  {
   "cell_type": "code",
   "execution_count": 2,
   "id": "c1aa6b9d",
   "metadata": {},
   "source": [
    "from pycram.designators.action_designator import *\n",
    "from pycram.pose import Pose\n",
    "from pycram.enums import Arms\n",
    "from pycram.process_module import simulated_robot\n",
    "world.reset_bullet_world()\n",
    "\n",
    "navigate = NavigateAction([Pose([1, 1, 0])])\n",
    "park = ParkArmsAction([Arms.BOTH])\n",
    "\n",
    "plan = navigate - park\n",
    "\n",
    "with simulated_robot:\n",
    "    \n",
    "    plan.perform()"
   ],
   "outputs": []
  },
  {
   "cell_type": "markdown",
   "id": "6d2cae2f",
   "metadata": {},
   "source": [
    "## Parallel \n",
    "Parallel executes all designator at once in dedicated threads. The execution of other designators is not aborted when a exception is raised, this is the case since threads can not be killed from the outside and this would also cause unforseen problems. The state returned will be SUCCEDED if all designators could be executed without an exception raised in any other case FAILED will be returned.\n",
    "\n",
    "Since executing designators in parallel can get chaotic especially with complex actions like PickUp or Transport. For this reason not all action designators can be used in parallel and try all expressions. The list of action designator that cannot be used in language expressions can be seen in ```Language.parallel_blocklist```.\n",
    "\n",
    "Designators that cannot be used in parallel and try all:\n",
    "  * PickUpAction\n",
    "  * PlaceAction\n",
    "  * OpenAction \n",
    "  * CloseAction \n",
    "  * TransportAction\n",
    "  \n",
    "Using the parallel expressions works like Sequential and TryInOrder. "
   ]
  },
  {
   "cell_type": "code",
   "execution_count": 3,
   "id": "a22c8296",
   "metadata": {},
   "source": [
    "from pycram.designators.action_designator import *\n",
    "from pycram.pose import Pose\n",
    "from pycram.enums import Arms\n",
    "from pycram.process_module import simulated_robot\n",
    "world.reset_bullet_world()\n",
    "\n",
    "navigate = NavigateAction([Pose([1, 1, 0])])\n",
    "park = ParkArmsAction([Arms.BOTH])\n",
    "\n",
    "plan = navigate | park\n",
    "\n",
    "with simulated_robot:\n",
    "    plan.perform()"
   ],
   "outputs": []
  },
  {
   "cell_type": "markdown",
   "id": "2a032e9c",
   "metadata": {},
   "source": [
    "## Try All \n",
    "TryAll is to Parallel what TryInOrder is to Sequential, meaning TryAll will also execute all designators in parallel but will return SUCCEEDED if at least one designator is executed without raising an exception. \n",
    "\n",
    "TryAll can be used like any other language expression. "
   ]
  },
  {
   "cell_type": "code",
   "execution_count": 4,
   "id": "2a48a1e8",
   "metadata": {},
   "source": [
    "from pycram.designators.action_designator import *\n",
    "from pycram.pose import Pose\n",
    "from pycram.enums import Arms\n",
    "from pycram.process_module import simulated_robot\n",
    "world.reset_bullet_world()\n",
    "\n",
    "navigate = NavigateAction([Pose([1, 1, 0])])\n",
    "park = ParkArmsAction([Arms.BOTH])\n",
    "\n",
    "plan = navigate ^ park\n",
    "\n",
    "with simulated_robot:\n",
    "    plan.perform()"
   ],
   "outputs": []
  },
  {
   "cell_type": "markdown",
   "id": "d5baaf40",
   "metadata": {},
   "source": [
    "## Combination of Expressions \n",
    "You can also combine different language expressions to further structure your plans. If you combine sequential and paralle expression please keep in mind that sequential expressions bind stringer than parallel ones. For example: \n",
    "```\n",
    "navigate | park + move_torso\n",
    "```\n",
    "In this case 'park' and 'move_torso' would form a Sequential expression and 'naviagte' would form a Parallel expression with Sequential. You can try this yourself in the following cell."
   ]
  },
  {
   "cell_type": "code",
   "execution_count": 5,
   "id": "4ca14fcb",
   "metadata": {},
   "source": [
    "from pycram.designators.action_designator import *\n",
    "from pycram.pose import Pose\n",
    "from pycram.enums import Arms\n",
    "from pycram.process_module import simulated_robot\n",
    "world.reset_bullet_world()\n",
    "\n",
    "navigate = NavigateAction([Pose([1, 1, 0])])\n",
    "park = ParkArmsAction([Arms.BOTH])\n",
    "move_torso = MoveTorsoAction([0.3])\n",
    "\n",
    "plan = navigate | park + move_torso\n",
    "\n",
    "with simulated_robot:\n",
    "    plan.perform()"
   ],
   "outputs": []
  },
  {
   "cell_type": "markdown",
   "id": "bc3a62df",
   "metadata": {},
   "source": [
    "## Code Objects\n",
    "You can not only use designators in the plan language but also python code. For this there is the ```Code```  object which takes a callable and the arguments for this callable. This allows you to execute arbitrary code in a plan. \n",
    "\n",
    "The callable that is used in the ```Code``` object can either be a lambda expression or, for more complex code, a function. If you use a function you can provide parameters as keyword-arguments."
   ]
  },
  {
   "cell_type": "code",
   "execution_count": 6,
   "id": "0d6e37f0",
   "metadata": {},
   "source": [
    "from pycram.designators.action_designator import *\n",
    "from pycram.enums import Arms\n",
    "from pycram.process_module import simulated_robot\n",
    "from pycram.language import Code\n",
    "\n",
    "def code_test(param):\n",
    "    print(\"-\" * 20)\n",
    "    print(param)\n",
    "\n",
    "park = ParkArmsAction([Arms.BOTH])\n",
    "code = Code(lambda: print(\"This is from the code object\"))\n",
    "code_func = Code(code_test, {\"param\": \"Code funtion\"})\n",
    "\n",
    "plan = navigate | code | code_func\n",
    "\n",
    "with simulated_robot:\n",
    "    plan.perform()"
   ],
   "outputs": []
  },
  {
   "cell_type": "markdown",
   "id": "42cbb2da",
   "metadata": {},
   "source": [
    "## Exception Handling\n",
    "If an exception is raised during the execution of a designator when it is used in a language expression the exception will be catched and saved to a dictionary. In genereal all designators in a language expression are executed regardless of exceptions raised, the only exception from this is the Sequential expression which stops after it encountered an exception. \n",
    "\n",
    "The language will only catch exceptions that are of type ```PlanFailure``` meaning errors that are defined in plan_failures.py in PyCRAM. This also means normal Python errors, such as KeyError, will interrupt the execution of your designators. \n",
    "\n",
    "We will see how exceptions are handled at a simple example."
   ]
  },
  {
   "cell_type": "code",
   "execution_count": 7,
   "id": "76566ea1",
   "metadata": {},
   "source": [
    "from pycram.designators.action_designator import *\n",
    "from pycram.process_module import simulated_robot\n",
    "from pycram.language import Code\n",
    "from pycram.plan_failures import PlanFailure\n",
    "\n",
    "def code_test():\n",
    "    raise PlanFailure\n",
    "\n",
    "navigate = NavigateAction([Pose([1, 1, 0])])\n",
    "code_func = Code(code_test)\n",
    "\n",
    "plan = navigate | code_func\n",
    "\n",
    "with simulated_robot:\n",
    "    plan.perform()\n",
    "    \n",
    "print(plan.exceptions)"
   ],
   "outputs": []
  },
  {
   "cell_type": "markdown",
   "id": "3f12817f",
   "metadata": {},
   "source": [
    "## Repeat \n",
    "Repeat simply repeats a language expression a number of times. As all other language expressions Repeat capturtes exceptions that occur during execution and saves them to the dictionary in the root of the plan.\n",
    "\n",
    "Since Repeat uses the \\* operator you should keep in mind that it will be evaluated before any other operator, so use parentheses to ensure the correct structure of your plan. \n",
    "\n",
    "You can see an example of how to use Repeat below."
   ]
  },
  {
   "cell_type": "code",
   "execution_count": 8,
   "id": "d19ead8a",
   "metadata": {},
   "source": [
    "from pycram.designators.action_designator import *\n",
    "from pycram.process_module import simulated_robot\n",
    "\n",
    "move_torso_up = MoveTorsoAction([0.3])\n",
    "move_torso_down = MoveTorsoAction([0.])\n",
    "\n",
    "plan = (move_torso_up + move_torso_down) * 5\n",
    "\n",
    "with simulated_robot:\n",
    "    plan.perform()"
   ],
   "outputs": []
  },
  {
   "cell_type": "markdown",
   "id": "360966c9",
   "metadata": {},
   "source": [
    "## Monitor\n",
    "Monitor allows to monitor the execution of a language expression and interrupt it as soon as a given condition is fulfilled. The condition can either be a Callable which returns a boolean or a Fluent.\n",
    "When executed the Monitor will create a separate thread which will check if the condition is satisfied with a frequency of 10 Hz. If the condition is satisfied the execution of the language expression will be interrupted.\n",
    "\n",
    "For the example on how Monitors work we will use the previous example with the robot moving up and down. We will use a Monitor to interrupt the execution after 2 seconds instead of executing the whole plan 5 times."
   ]
  },
  {
   "cell_type": "code",
   "execution_count": 9,
   "id": "84d7e236",
   "metadata": {},
   "source": [
    "from pycram.designators.action_designator import *\n",
    "from pycram.process_module import simulated_robot\n",
    "from pycram.language import Monitor\n",
    "\n",
    "move_torso_up = MoveTorsoAction([0.3])\n",
    "move_torso_down = MoveTorsoAction([0.])\n",
    "\n",
    "def monitor_func():\n",
    "    time.sleep(2)\n",
    "    return True\n",
    "\n",
    "plan = (move_torso_up + move_torso_down) * 5 >> Monitor(monitor_func)\n",
    "\n",
    "with simulated_robot:\n",
    "    plan.perform()"
   ],
   "outputs": []
  }
 ],
 "metadata": {
  "kernelspec": {
   "display_name": "Python 3",
   "language": "python",
   "name": "python3"
  },
  "language_info": {
   "codemirror_mode": {
    "name": "ipython",
    "version": 3
   },
   "file_extension": ".py",
   "mimetype": "text/x-python",
   "name": "python",
   "nbconvert_exporter": "python",
   "pygments_lexer": "ipython3",
   "version": "3.8.10"
  }
 },
 "nbformat": 4,
 "nbformat_minor": 5
}
