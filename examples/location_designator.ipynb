{
 "cells": [
  {
   "cell_type": "markdown",
   "id": "b392c2a8",
   "metadata": {},
   "source": [
    "# Location Designator\n",
    "This example will show you what location designators are, how to use them and what they are capable of. \n",
    "\n",
    "Location Designators are used to semantically describe locations in the world. You could, for example, create a location designator that describes every position where a robot can be placed without colliding with the environment. Location designator can describe locations for:\n",
    "\n",
    "   * Visibility \n",
    "   * Reachability\n",
    "   * Occupancy \n",
    "   * URDF Links (for example a table)\n",
    "\n",
    "To find locations that fit the given constrains, location designator create Costmaps. Costmaps are a 2D distribution that have a value greater than 0 for every position that fits the costmap criteria.\n",
    "\n",
    "Location designators work similar to other designators, meaning you have to create a location designator description which describes the location. This description can then be resolved to the actual 6D pose on runtime.\n",
    "\n",
    "## Occupancy\n",
    "\n",
    "We will start with a simple location designator that describes a location where the robot can be placed without colliding with the environment. To do this we need a BulletWorld since the costmaps are mostly created from the current state of the BulletWorld. "
   ]
  },
  {
   "cell_type": "code",
   "execution_count": 1,
   "id": "ebbb301c",
   "metadata": {},
   "source": [
    "from pycram.bullet_world import BulletWorld, Object\n",
    "from pycram.enums import ObjectType\n",
    "from pycram.pose import Pose\n",
    "\n",
    "world = BulletWorld()\n",
    "kitchen = Object(\"kitchen\", ObjectType.ENVIRONMENT, \"kitchen.urdf\")"
   ],
   "outputs": []
  },
  {
   "cell_type": "code",
   "execution_count": 4,
   "id": "41af6063",
   "metadata": {},
   "source": [
    "world.exit()"
   ],
   "outputs": []
  },
  {
   "cell_type": "markdown",
   "id": "8c09672d",
   "metadata": {},
   "source": [
    "Next up we will create the location designator description, the ```CostmapLocation``` that we will be using needs a target as a parameter. This target describes what the location designator is for, this could either be a pose or object that the robot should be able to see or reach.\n",
    "\n",
    "In this case we only want poses where the robot can be placed, this is the default behaviour of the location designator which we will be extending later. "
   ]
  },
  {
   "cell_type": "code",
   "execution_count": 2,
   "id": "637c2b2c",
   "metadata": {},
   "source": [
    "from pycram.designators.location_designator import CostmapLocation\n",
    "\n",
    "target = kitchen.get_pose()\n",
    "\n",
    "location_description = CostmapLocation(target)\n",
    "\n",
    "pose = location_description.resolve()\n",
    "\n",
    "print(pose)"
   ],
   "outputs": []
  },
  {
   "cell_type": "markdown",
   "id": "89a34892",
   "metadata": {},
   "source": [
    "## Reachable\n",
    "Next we want to locations from where the robot can reach a specific point, like an object the robot should pick up. This can also be done with the ```CostmapLocation``` description, but this time we need to provide an additional argument. The additional argument is the robo which should be able to reach the pose. \n",
    "\n",
    "Since a robot is needed we will use the PR2 and use a milk as a target point for the robot to reach. The torso of the PR2 will be set to 0.2 since otherwise the arms of the robot will be too low to reach on the countertop.\n"
   ]
  },
  {
   "cell_type": "code",
   "execution_count": 3,
   "id": "f0fd5a10",
   "metadata": {},
   "source": [
    "pr2 = Object(\"pr2\", ObjectType.ROBOT, \"pr2.urdf\")\n",
    "pr2.set_joint_state(\"torso_lift_joint\", 0.2)\n",
    "milk = Object(\"milk\", ObjectType.MILK, \"milk.stl\", pose=Pose([1.3, 1, 0.9]))\n"
   ],
   "outputs": []
  },
  {
   "cell_type": "code",
   "execution_count": 4,
   "id": "ceb4d47e",
   "metadata": {},
   "source": [
    "from pycram.designators.location_designator import CostmapLocation\n",
    "from pycram.designators.object_designator import BelieveObject\n",
    "\n",
    "target = BelieveObject(names=[\"milk\"]).resolve()\n",
    "robot_desig = BelieveObject(names=[\"pr2\"]).resolve()\n",
    "\n",
    "location_description = CostmapLocation(target=target, reachable_for=robot_desig)\n",
    "\n",
    "print(location_description.resolve())"
   ],
   "outputs": []
  },
  {
   "cell_type": "markdown",
   "id": "453c57d9",
   "metadata": {},
   "source": [
    "As you can see we get a pose near the countertop where the robot can be placed without colliding with it. Furthermore, we get a list of arms with which the robot can reach the given object."
   ]
  },
  {
   "cell_type": "markdown",
   "id": "9477fd4c",
   "metadata": {},
   "source": [
    "## Visibile\n",
    "The ```CostmapLocation``` can also find position from which the robot can see a given object or location. This is very similar to how reachable locations are described, meaning we provide a object designator or a pose and a robot designator but this time we use the ```visible_for``` parameter.  \n",
    "\n",
    "For this example we need the milk as well as the PR2, so if you did not spawn them during the previous location designator you can spawn them with the following cell.  "
   ]
  },
  {
   "cell_type": "code",
   "execution_count": null,
   "id": "3131aef8",
   "metadata": {},
   "source": [
    "pr2 = Object(\"pr2\", ObjectType.ROBOT, \"pr2.urdf\")\n",
    "milk = Object(\"milk\", ObjectType.MILK, \"milk.stl\", pose=Pose([1.3, 1, 0.9]))"
   ],
   "outputs": []
  },
  {
   "cell_type": "code",
   "execution_count": 5,
   "id": "cfa61eea",
   "metadata": {},
   "source": [
    "from pycram.designators.location_designator import CostmapLocation\n",
    "from pycram.designators.object_designator import BelieveObject\n",
    "\n",
    "target = BelieveObject(names=[\"milk\"]).resolve()\n",
    "robot_desig = BelieveObject(names=[\"pr2\"]).resolve()\n",
    "\n",
    "location_description = CostmapLocation(target=target, visible_for=robot_desig)\n",
    "\n",
    "print(location_description.resolve())"
   ],
   "outputs": []
  },
  {
   "cell_type": "markdown",
   "id": "2a1fc234",
   "metadata": {},
   "source": [
    "## Semantic \n",
    "Semantic location designator are used to create location descriptions for semantic entities, like a table. An example of this is: You have a robot that picked up an object and should place it on a table. Semantic location designator then allows to find poses that are on this table.\n",
    "\n",
    "Semantic location designator need an object from which the target entity is a part and the URDF link representing the entity. In this case we want a position on the kitchen island, so we have to provide the kitchen object designator since the island is a part of the kitchen and the link name of the island surface. \n",
    "\n",
    "For this example we need the kitchen as well as the milk. If you spawned them in one of the previous examples you don't need to execute the following cell."
   ]
  },
  {
   "cell_type": "code",
   "execution_count": 8,
   "id": "d9bb3008",
   "metadata": {},
   "source": [
    "kitchen = Object(\"kitchen\", ObjectType.ENVIRONMENT, \"kitchen.urdf\")\n",
    "milk = Object(\"milk\", ObjectType.MILK, \"milk.stl\")"
   ],
   "outputs": []
  },
  {
   "cell_type": "code",
   "execution_count": 6,
   "id": "af4ff411",
   "metadata": {},
   "source": [
    "from pycram.designators.location_designator import SemanticCostmapLocation \n",
    "from pycram.designators.object_designator import BelieveObject\n",
    "\n",
    "kitchen_desig = BelieveObject(names=[\"kitchen\"]).resolve()\n",
    "milk_desig = BelieveObject(names=[\"milk\"]).resolve()\n",
    "\n",
    "location_description = SemanticCostmapLocation(urdf_link_name=\"kitchen_island_surface\", \n",
    "                                               part_of=kitchen_desig,\n",
    "                                              for_object=milk_desig)\n",
    "\n",
    "print(location_description.resolve())"
   ],
   "outputs": []
  },
  {
   "cell_type": "markdown",
   "id": "36bfc59f",
   "metadata": {},
   "source": [
    "## Location Designator as Generator\n",
    "Location designator descriptions implement an iter method, so they can be used as generators which generate valid poses for the location described in the description. This can be useful if the first pose does not work for some reason. \n",
    "\n",
    "We will see this at the example of a location designator for visibility. For this example we need the milk, if you already have a milk spawned in you world you can ignore the following cell."
   ]
  },
  {
   "cell_type": "code",
   "execution_count": null,
   "id": "1179f78b",
   "metadata": {},
   "source": [
    "milk = Object(\"milk\", ObjectType.MILK, \"milk.stl\")"
   ],
   "outputs": []
  },
  {
   "cell_type": "code",
   "execution_count": null,
   "id": "f062dc7f",
   "metadata": {},
   "source": [
    "from pycram.designators.location_designator import CostmapLocation\n",
    "from pycram.designators.object_designator import BelieveObject\n",
    "\n",
    "target = BelieveObject(names=[\"milk\"]).resolve()\n",
    "robot_desig = BelieveObject(names=[\"pr2\"]).resolve()\n",
    "\n",
    "location_description = CostmapLocation(target=target, visible_for=robot_desig)\n",
    "\n",
    "for pose in location_description:\n",
    "    print(pose.pose)"
   ],
   "outputs": []
  },
  {
   "cell_type": "markdown",
   "id": "7c406404",
   "metadata": {},
   "source": [
    "## Accessing Locations\n",
    "Accessing describes a location from which the robot can open a drawer. The drawer is specified by a ObjetcPart designator which describes the handle of the drawer.\n",
    "\n",
    "At the moment this location designator only works in the apartment environment, so please remove the kitchen if you spawned it in a previous example. Furthermore, we need a robot, so we also spawn the PR2 if it isn't spawned already."
   ]
  },
  {
   "cell_type": "code",
   "execution_count": 8,
   "id": "f51613af",
   "metadata": {},
   "source": [
    "kitchen.remove()"
   ],
   "outputs": []
  },
  {
   "cell_type": "code",
   "execution_count": 9,
   "id": "997b306b",
   "metadata": {},
   "source": [
    "apartment = Object(\"apartment\", ObjectType.ENVIRONMENT, \"apartment.urdf\")"
   ],
   "outputs": []
  },
  {
   "cell_type": "code",
   "execution_count": 10,
   "id": "540fd818",
   "metadata": {},
   "source": [
    "pr2 = Object(\"pr2\", ObjectType.ROBOT, \"pr2.urdf\")\n",
    "pr2.set_joint_state(\"torso_lift_joint\", 0.25)"
   ],
   "outputs": []
  },
  {
   "cell_type": "code",
   "execution_count": 10,
   "id": "524c481a",
   "metadata": {},
   "source": [
    "from pycram.designators.object_designator import *\n",
    "from pycram.designators.location_designator import *\n",
    "\n",
    "apartment_desig = BelieveObject(names=[\"apartment\"])\n",
    "handle_desig = ObjectPart(names=[\"handle_cab10_t\"], part_of=apartment_desig.resolve())\n",
    "robot_desig = BelieveObject(names=[\"pr2\"])\n",
    "\n",
    "access_location = AccessingLocation(handle_desig.resolve(), robot_desig.resolve()).resolve()\n",
    "print(access_location.pose)"
   ],
   "outputs": []
  }
 ],
 "metadata": {
  "kernelspec": {
   "display_name": "Python 3",
   "language": "python",
   "name": "python3"
  },
  "language_info": {
   "codemirror_mode": {
    "name": "ipython",
    "version": 3
   },
   "file_extension": ".py",
   "mimetype": "text/x-python",
   "name": "python",
   "nbconvert_exporter": "python",
   "pygments_lexer": "ipython3",
   "version": "3.8.10"
  }
 },
 "nbformat": 4,
 "nbformat_minor": 5
}
