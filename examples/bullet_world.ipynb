{
 "cells": [
  {
   "cell_type": "markdown",
   "id": "8d2d6a94",
   "metadata": {},
   "source": [
    "# Bullet World\n",
    "This Notebook will show you the basics of working with the PyCRAM BulletWorld.\n",
    "\n",
    "First we need to import and create a BulletWorld."
   ]
  },
  {
   "cell_type": "code",
   "execution_count": 1,
   "id": "23bbba35",
   "metadata": {},
   "source": [
    "from pycram.bullet_world import BulletWorld\n",
    "from pycram.pose import Pose\n",
    "from pycram.enums import ObjectType\n",
    "\n",
    "world = BulletWorld()"
   ],
   "outputs": []
  },
  {
   "cell_type": "markdown",
   "id": "dccaf6ff",
   "metadata": {},
   "source": [
    "This new window is the BulletWorld, PyCRAMs internal physics simulation. You can use the mouse to move the camera around:\n",
    "\n",
    "  * Press the left mouse button to rotate the camera\n",
    "  * Press the right mouse button to move the camera \n",
    "  * Press the middle mouse button (scroll wheel) and move the mouse up or down to zoom\n",
    "    \n",
    "At the moment the BulletWorld only contains a floor, this is spawned by default when creating the BulletWorld. Furthermore, the gravity is set to 9.8 m^2, which is the same gravitation as the one on earth. \n",
    "    "
   ]
  },
  {
   "cell_type": "markdown",
   "id": "4403bf9c",
   "metadata": {},
   "source": [
    "To close the BulletWorld again please use the ```exit``` method since it will also terminate threads running in the background"
   ]
  },
  {
   "cell_type": "code",
   "execution_count": 7,
   "id": "b1e6ed82",
   "metadata": {},
   "source": [
    "world.exit()"
   ],
   "outputs": []
  },
  {
   "cell_type": "markdown",
   "id": "e0fc7086",
   "metadata": {},
   "source": [
    "To spawn new things in the BulletWorld we need to import the Object class and create and instance of it. "
   ]
  },
  {
   "cell_type": "code",
   "execution_count": 2,
   "id": "48a3aed2",
   "metadata": {},
   "source": [
    "from pycram.bullet_world import Object\n",
    "\n",
    "milk = Object(\"milk\", ObjectType.MILK, \"milk.stl\", pose=Pose([0, 0, 1]))"
   ],
   "outputs": []
  },
  {
   "cell_type": "markdown",
   "id": "8a754f12",
   "metadata": {},
   "source": [
    "As you can see this spawns a milk floating in the air. What we did here was create a new Object which has the name \"milk\" as well as the type ```ObjectType.MILK ``` , is spawned from the file \"milk.stl\" and is at the position [0, 0, 1]. \n",
    "\n",
    "The type of an Object can either be from the enum ObjectType or a string. However, it is recommended to use the enum since this would make for a more consistent naming of types which makes it easier to work with types. But since the types of the enum might not fit your case you can also use strings. \n",
    "\n",
    "The first three of these parameters are required while the position is optional. As you can see it was sufficient to only specify the filename for PyCRAM to spawn the milk mesh. When only providing a filename, PyCRAM will search in its resource directory for a matching file and use it. \n",
    "\n",
    "For a complete list of all parameters that can be used to crate an Object please check the documentation. \n",
    "\n",
    "\n",
    "\n",
    "Since the Object is spawned, we can now interact with it. First we want to move it around and change its orientation"
   ]
  },
  {
   "cell_type": "code",
   "execution_count": 3,
   "id": "4ae2bc42",
   "metadata": {},
   "source": [
    "milk.set_position(Pose([1, 1, 1]))"
   ],
   "outputs": []
  },
  {
   "cell_type": "code",
   "execution_count": 4,
   "id": "4adc7b11",
   "metadata": {},
   "source": [
    "milk.set_orientation(Pose(orientation=[1,0, 0, 1]))"
   ],
   "outputs": []
  },
  {
   "cell_type": "code",
   "execution_count": 5,
   "id": "f91d1809",
   "metadata": {},
   "source": [
    "milk.set_pose(Pose([0, 0, 1], [0, 0, 0, 1]))"
   ],
   "outputs": []
  },
  {
   "cell_type": "markdown",
   "id": "5805be38",
   "metadata": {},
   "source": [
    "In the same sense as setting the position or orientation, you can also get the position and orientation."
   ]
  },
  {
   "cell_type": "code",
   "execution_count": 9,
   "id": "1db2aa78",
   "metadata": {},
   "source": [
    "print(f\"Position: \\n{milk.get_position()}\")\n",
    "\n",
    "print(f\"Orientation: \\n{milk.get_orientation()}\")\n",
    "\n",
    "print(f\"Pose: \\n{milk.get_pose()}\")"
   ],
   "outputs": []
  },
  {
   "cell_type": "markdown",
   "id": "68c02db9",
   "metadata": {},
   "source": [
    "## Attachments\n",
    "You can attach Objects to each other simply by calling the attach method on one of them and providing the other as parameter. Since attachments are bi-directional it doesn't matter on which Object you call the method. \n",
    "\n",
    "First we need another Object"
   ]
  },
  {
   "cell_type": "code",
   "execution_count": 3,
   "id": "10a493b1",
   "metadata": {},
   "source": [
    "cereal = Object(\"cereal\", ObjectType.BREAKFAST_CEREAL, \"breakfast_cereal.stl\", pose=Pose([1, 0, 1]))"
   ],
   "outputs": []
  },
  {
   "cell_type": "code",
   "execution_count": 4,
   "id": "275372e3",
   "metadata": {},
   "source": [
    "milk.attach(cereal)"
   ],
   "outputs": []
  },
  {
   "cell_type": "markdown",
   "id": "5577c567",
   "metadata": {},
   "source": [
    "Now since they are attached to each other, if we move one of them the other will move in conjunction."
   ]
  },
  {
   "cell_type": "code",
   "execution_count": 5,
   "id": "dff85834",
   "metadata": {},
   "source": [
    "milk.set_position(Pose([1,1,1]))"
   ],
   "outputs": []
  },
  {
   "cell_type": "markdown",
   "id": "196bd705",
   "metadata": {},
   "source": [
    "In the same way the Object can also be detached, just call the detach method on one of the two attached Objects."
   ]
  },
  {
   "cell_type": "code",
   "execution_count": 13,
   "id": "b0bba145",
   "metadata": {},
   "source": [
    "cereal.detach(milk)"
   ],
   "outputs": []
  },
  {
   "cell_type": "markdown",
   "id": "e5e44a67",
   "metadata": {},
   "source": [
    "## Links and Joints\n",
    "Objects spawned from mesh files do not have links or joints, but if you spawn things from a URDF like a robot they will have a lot of links and joints. Every Object has two dictionaries as attributes, namely ```links``` and ```joints``` which contain every link or joint as key and a unique id, used by PyBullet, as value. \n",
    "\n",
    "We will see this at the example of the PR2:"
   ]
  },
  {
   "cell_type": "code",
   "execution_count": 6,
   "id": "edf5cb72",
   "metadata": {},
   "source": [
    "pr2 = Object(\"pr2\", ObjectType.ROBOT, \"pr2.urdf\")\n",
    "print(pr2.links)"
   ],
   "outputs": []
  },
  {
   "cell_type": "markdown",
   "id": "e157eb6f",
   "metadata": {},
   "source": [
    "For links there are similar methods available as for the pose. However, you can only **get** the position and orientation of a link. "
   ]
  },
  {
   "cell_type": "code",
   "execution_count": 15,
   "id": "51b59ffd",
   "metadata": {},
   "source": [
    "print(f\"Position: \\n{pr2.get_link_position('torso_lift_link')}\")\n",
    "\n",
    "print(f\"Orientation: \\n{pr2.get_link_orientation('torso_lift_link')}\")\n",
    "\n",
    "print(f\"Pose: \\n{pr2.get_link_pose('torso_lift_link')}\")"
   ],
   "outputs": []
  },
  {
   "cell_type": "markdown",
   "id": "ecd9c4a3",
   "metadata": {},
   "source": [
    "Methods available for joints are:\n",
    "\n",
    "  * ```get_joint_state```\n",
    "  * ```set_joint_state```\n",
    "  * ```get_joint_limits```\n",
    "  \n",
    "We will see how these methods work at the example of the torso_lift_joint:"
   ]
  },
  {
   "cell_type": "code",
   "execution_count": 16,
   "id": "38a8aef4",
   "metadata": {},
   "source": [
    "print(f\"Joint limits: {pr2.get_joint_limits('torso_lift_joint')}\")\n",
    "\n",
    "print(f\"Current Joint state: {pr2.get_joint_state('torso_lift_joint')}\")\n",
    "\n",
    "pr2.set_joint_state(\"torso_lift_joint\", 0.2)\n",
    "\n",
    "print(f\"New Joint state: {pr2.get_joint_state('torso_lift_joint')}\")"
   ],
   "outputs": []
  },
  {
   "cell_type": "markdown",
   "id": "6d4ee70a",
   "metadata": {},
   "source": [
    "## Misc Methods\n",
    "There are a few methods that don't fit any category but could be helpful anyway. The first two are ```get_color``` and ```set_color```, as the name implies they can be used to get or set the color for specific links or the whole Object. "
   ]
  },
  {
   "cell_type": "code",
   "execution_count": 17,
   "id": "5eee9b8a",
   "metadata": {},
   "source": [
    "print(f\"Pr2 forearm color: {pr2.get_color('r_forearm_link')}\")"
   ],
   "outputs": []
  },
  {
   "cell_type": "code",
   "execution_count": 18,
   "id": "07aa1c3f",
   "metadata": {},
   "source": [
    "pr2.set_color([1, 0, 0], \"r_forearm_link\")"
   ],
   "outputs": []
  },
  {
   "cell_type": "markdown",
   "id": "ce5d910b",
   "metadata": {},
   "source": [
    "Lastly, there is ```get_AABB```, AABB stands for *A*xis *A*ligned *B*ounding *B*ox. This method returns two points in world coordinates which span a rectangle representing the AABB."
   ]
  },
  {
   "cell_type": "code",
   "execution_count": 19,
   "id": "2a78715b",
   "metadata": {},
   "source": [
    "pr2.get_AABB()"
   ],
   "outputs": []
  }
 ],
 "metadata": {
  "kernelspec": {
   "display_name": "Python 3",
   "language": "python",
   "name": "python3"
  },
  "language_info": {
   "codemirror_mode": {
    "name": "ipython",
    "version": 3
   },
   "file_extension": ".py",
   "mimetype": "text/x-python",
   "name": "python",
   "nbconvert_exporter": "python",
   "pygments_lexer": "ipython3",
   "version": "3.8.10"
  }
 },
 "nbformat": 4,
 "nbformat_minor": 5
}
